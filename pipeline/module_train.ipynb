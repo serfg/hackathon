{
 "cells": [
  {
   "cell_type": "code",
   "execution_count": 1,
   "id": "72bdb799",
   "metadata": {},
   "outputs": [],
   "source": [
    "import os\n",
    "import sys\n",
    "import gc; gc.enable()\n",
    "import warnings; warnings.filterwarnings(\"ignore\")\n",
    "\n",
    "import pickle\n",
    "from tqdm import tqdm\n",
    "\n",
    "import numpy as np\n",
    "import pandas as pd\n",
    "import seaborn as sns\n",
    "from tabulate import tabulate\n",
    "from matplotlib import pyplot as plt\n",
    "%matplotlib inline\n",
    "\n",
    "import torch\n",
    "import torch.nn as nn\n",
    "import torch.nn.functional as F\n",
    "from torch.utils.tensorboard import SummaryWriter\n",
    "#from torch.utils.data import Dataset, DataLoader\n",
    "\n",
    "import torch_geometric\n",
    "from torch_geometric.nn import GCNConv\n",
    "from torch_geometric.nn import global_max_pool\n",
    "from torch_geometric.loader import DataLoader\n",
    "\n",
    "from openbabel import pybel\n",
    "pybel.ob.obErrorLog.SetOutputLevel(0)\n",
    "\n",
    "from sklearn.model_selection import StratifiedKFold\n",
    "from sklearn.metrics import roc_auc_score, f1_score"
   ]
  },
  {
   "cell_type": "code",
   "execution_count": 2,
   "id": "77aaa89c",
   "metadata": {},
   "outputs": [],
   "source": [
    "data = pd.read_csv('../data/train.csv', index_col=0)\n",
    "test = pd.read_csv('../data/test.csv', index_col=0)"
   ]
  },
  {
   "cell_type": "markdown",
   "id": "27b5413d",
   "metadata": {},
   "source": [
    "## build graphs"
   ]
  },
  {
   "cell_type": "code",
   "execution_count": 3,
   "id": "0ff2e37b",
   "metadata": {},
   "outputs": [
    {
     "name": "stderr",
     "output_type": "stream",
     "text": [
      "100%|███████████████████████████████████████████████████████████████████████████████████████████████████████████████████████████████████████████████████████████████████████████████████████████████████████████████████████████████████| 7171/7171 [00:01<00:00, 7040.95it/s]\n",
      "100%|██████████████████████████████████████████████████████████████████████████████████████████████████████████████████████████████████████████████████████████████████████████████████████████████████████████████████████████████████| 7171/7171 [00:00<00:00, 13702.22it/s]\n",
      "100%|██████████████████████████████████████████████████████████████████████████████████████████████████████████████████████████████████████████████████████████████████████████████████████████████████████████████████████████████| 200946/200946 [00:02<00:00, 71116.89it/s]\n",
      "100%|██████████████████████████████████████████████████████████████████████████████████████████████████████████████████████████████████████████████████████████████████████████████████████████████████████████████████████████████| 187550/187550 [00:06<00:00, 27387.89it/s]\n",
      "100%|████████████████████████████████████████████████████████████████████████████████████████████████████████████████████████████████████████████████████████████████████████████████████████████████████████████████████████████████████| 7171/7171 [00:40<00:00, 175.07it/s]\n"
     ]
    }
   ],
   "source": [
    "from graph_creation_baseline import build_graphs\n",
    "\n",
    "extra_features_table = pd.read_csv('../atom_features.csv', index_col=0)\n",
    "\n",
    "data_graphs = build_graphs(np.concatenate([data['Smiles'].values, test['Smiles'].values]),\n",
    "                           extra_features_table=extra_features_table)\n",
    "test_graphs = data_graphs[-len(test):]\n",
    "data_graphs = data_graphs[:-len(test)]\n",
    "for index in range(len(data_graphs)):\n",
    "    data_graphs[index].y = int(data['Active'].values[index])"
   ]
  },
  {
   "cell_type": "markdown",
   "id": "5bbd2176",
   "metadata": {},
   "source": [
    "## engine"
   ]
  },
  {
   "cell_type": "code",
   "execution_count": 4,
   "id": "25c812f5",
   "metadata": {},
   "outputs": [],
   "source": [
    "from utils import *"
   ]
  },
  {
   "cell_type": "markdown",
   "id": "abf5ab5f",
   "metadata": {},
   "source": [
    "## model"
   ]
  },
  {
   "cell_type": "code",
   "execution_count": 5,
   "id": "59683048",
   "metadata": {},
   "outputs": [],
   "source": [
    "from models import *"
   ]
  },
  {
   "cell_type": "markdown",
   "id": "884e6fd6",
   "metadata": {},
   "source": [
    "## args"
   ]
  },
  {
   "cell_type": "code",
   "execution_count": 6,
   "id": "7b48c536",
   "metadata": {},
   "outputs": [],
   "source": [
    "# data split args\n",
    "n_splits, random_state = 8, 42\n",
    "\n",
    "# positive objects rebalance args\n",
    "num_pos_repeats, pos_weight = 1, 12.0\n",
    "\n",
    "# model args\n",
    "num_features, width, depth = 68, 128, 2\n",
    "device = torch.device('cuda:0')\n",
    "\n",
    "# fit args\n",
    "batch_size, num_workers = 128, 8\n",
    "lr, num_epochs = 5e-4, 64\n",
    "\n",
    "# name for logs and checkpoints\n",
    "name = 'test'"
   ]
  },
  {
   "cell_type": "markdown",
   "id": "3166b970",
   "metadata": {},
   "source": [
    "## train"
   ]
  },
  {
   "cell_type": "code",
   "execution_count": 7,
   "id": "6b336fe7",
   "metadata": {
    "scrolled": true
   },
   "outputs": [
    {
     "name": "stderr",
     "output_type": "stream",
     "text": [
      "100%|█████████████████████████████████████████████████████████████████████████████████████████████████████████████████████████████████████████████████████████████████████████████████████████████████████████████████████████████████████████| 64/64 [02:28<00:00,  2.33s/it]\n",
      "100%|█████████████████████████████████████████████████████████████████████████████████████████████████████████████████████████████████████████████████████████████████████████████████████████████████████████████████████████████████████████| 64/64 [02:31<00:00,  2.37s/it]\n",
      "100%|█████████████████████████████████████████████████████████████████████████████████████████████████████████████████████████████████████████████████████████████████████████████████████████████████████████████████████████████████████████| 64/64 [02:29<00:00,  2.34s/it]\n",
      "100%|█████████████████████████████████████████████████████████████████████████████████████████████████████████████████████████████████████████████████████████████████████████████████████████████████████████████████████████████████████████| 64/64 [02:29<00:00,  2.33s/it]\n",
      "100%|█████████████████████████████████████████████████████████████████████████████████████████████████████████████████████████████████████████████████████████████████████████████████████████████████████████████████████████████████████████| 64/64 [02:26<00:00,  2.29s/it]\n",
      "100%|█████████████████████████████████████████████████████████████████████████████████████████████████████████████████████████████████████████████████████████████████████████████████████████████████████████████████████████████████████████| 64/64 [02:24<00:00,  2.25s/it]\n",
      "100%|█████████████████████████████████████████████████████████████████████████████████████████████████████████████████████████████████████████████████████████████████████████████████████████████████████████████████████████████████████████| 64/64 [02:23<00:00,  2.25s/it]\n",
      "100%|█████████████████████████████████████████████████████████████████████████████████████████████████████████████████████████████████████████████████████████████████████████████████████████████████████████████████████████████████████████| 64/64 [02:23<00:00,  2.25s/it]\n"
     ]
    }
   ],
   "source": [
    "thrs, f1s = [], []\n",
    "for index in range(n_splits):\n",
    "    cv = StratifiedKFold(n_splits=n_splits, shuffle=True, random_state=random_state)\n",
    "    tmp = cv.split(data['Smiles'].values, data['Active'].values.astype(np.int64))\n",
    "\n",
    "    for _ in range(index + 1):\n",
    "        train_indices, val_indices = tmp.__next__()\n",
    "\n",
    "    train_graphs = [data_graphs[index] for index in train_indices if not data_graphs[index].empty]\n",
    "    val_graphs = [data_graphs[index] for index in val_indices if not data_graphs[index].empty]\n",
    "\n",
    "    positive_train_graphs = [graph for graph in train_graphs if graph.y]\n",
    "    if num_pos_repeats > 1:\n",
    "        train_graphs = train_graphs + positive_train_graphs * (num_pos_repeats - 1)\n",
    "\n",
    "    train_loader = DataLoader(train_graphs, shuffle=True, batch_size=batch_size, num_workers=num_workers)\n",
    "    val_loader = DataLoader(val_graphs, shuffle=False, batch_size=batch_size, num_workers=num_workers)\n",
    "    test_loader = DataLoader(test_graphs, shuffle=False, batch_size=batch_size, num_workers=num_workers)\n",
    "\n",
    "    model = GCN(num_features, width=width, depth=depth)  # <- GCN defined in models.py, feel free to add more\n",
    "    model.to(device)\n",
    "\n",
    "    opt = torch.optim.Adam(model.parameters(), lr=lr)\n",
    "\n",
    "    exp_name = name + '_' + str(index) + '_cv_split'\n",
    "    \n",
    "    # trainer defined in utils.py\n",
    "    trainer = Trainer(model, opt, None, train_loader, val_loader, num_epochs,\n",
    "                      weight=pos_weight, step='step', backup_by='all',\n",
    "                      logs_path='./logs', path_to_save='./ckpt', exp_name=exp_name, verbose=0)\n",
    "    trainer.run()\n",
    "\n",
    "    thrs.append(trainer.thr)\n",
    "    f1s.append(trainer.adaptive_f1s[trainer.best_epoch - 1])\n",
    "\n",
    "# raise Exception('done!')"
   ]
  },
  {
   "cell_type": "code",
   "execution_count": 8,
   "id": "925c5ea6",
   "metadata": {},
   "outputs": [
    {
     "name": "stdout",
     "output_type": "stream",
     "text": [
      "test_0_cv_split_1.pth\ttest_2_cv_split_49.pth\ttest_5_cv_split_3.pth\r\n",
      "test_0_cv_split_10.pth\ttest_2_cv_split_5.pth\ttest_5_cv_split_30.pth\r\n",
      "test_0_cv_split_11.pth\ttest_2_cv_split_50.pth\ttest_5_cv_split_31.pth\r\n",
      "test_0_cv_split_12.pth\ttest_2_cv_split_51.pth\ttest_5_cv_split_32.pth\r\n",
      "test_0_cv_split_13.pth\ttest_2_cv_split_52.pth\ttest_5_cv_split_33.pth\r\n",
      "test_0_cv_split_14.pth\ttest_2_cv_split_53.pth\ttest_5_cv_split_34.pth\r\n",
      "test_0_cv_split_15.pth\ttest_2_cv_split_54.pth\ttest_5_cv_split_35.pth\r\n",
      "test_0_cv_split_16.pth\ttest_2_cv_split_55.pth\ttest_5_cv_split_36.pth\r\n",
      "test_0_cv_split_17.pth\ttest_2_cv_split_56.pth\ttest_5_cv_split_37.pth\r\n",
      "test_0_cv_split_18.pth\ttest_2_cv_split_57.pth\ttest_5_cv_split_38.pth\r\n",
      "test_0_cv_split_19.pth\ttest_2_cv_split_58.pth\ttest_5_cv_split_39.pth\r\n",
      "test_0_cv_split_2.pth\ttest_2_cv_split_59.pth\ttest_5_cv_split_4.pth\r\n",
      "test_0_cv_split_20.pth\ttest_2_cv_split_6.pth\ttest_5_cv_split_40.pth\r\n",
      "test_0_cv_split_21.pth\ttest_2_cv_split_60.pth\ttest_5_cv_split_41.pth\r\n",
      "test_0_cv_split_22.pth\ttest_2_cv_split_61.pth\ttest_5_cv_split_42.pth\r\n",
      "test_0_cv_split_23.pth\ttest_2_cv_split_62.pth\ttest_5_cv_split_43.pth\r\n",
      "test_0_cv_split_24.pth\ttest_2_cv_split_63.pth\ttest_5_cv_split_44.pth\r\n",
      "test_0_cv_split_25.pth\ttest_2_cv_split_64.pth\ttest_5_cv_split_45.pth\r\n",
      "test_0_cv_split_26.pth\ttest_2_cv_split_7.pth\ttest_5_cv_split_46.pth\r\n",
      "test_0_cv_split_27.pth\ttest_2_cv_split_8.pth\ttest_5_cv_split_47.pth\r\n",
      "test_0_cv_split_28.pth\ttest_2_cv_split_9.pth\ttest_5_cv_split_48.pth\r\n",
      "test_0_cv_split_29.pth\ttest_3_cv_split_1.pth\ttest_5_cv_split_49.pth\r\n",
      "test_0_cv_split_3.pth\ttest_3_cv_split_10.pth\ttest_5_cv_split_5.pth\r\n",
      "test_0_cv_split_30.pth\ttest_3_cv_split_11.pth\ttest_5_cv_split_50.pth\r\n",
      "test_0_cv_split_31.pth\ttest_3_cv_split_12.pth\ttest_5_cv_split_51.pth\r\n",
      "test_0_cv_split_32.pth\ttest_3_cv_split_13.pth\ttest_5_cv_split_52.pth\r\n",
      "test_0_cv_split_33.pth\ttest_3_cv_split_14.pth\ttest_5_cv_split_53.pth\r\n",
      "test_0_cv_split_34.pth\ttest_3_cv_split_15.pth\ttest_5_cv_split_54.pth\r\n",
      "test_0_cv_split_35.pth\ttest_3_cv_split_16.pth\ttest_5_cv_split_55.pth\r\n",
      "test_0_cv_split_36.pth\ttest_3_cv_split_17.pth\ttest_5_cv_split_56.pth\r\n",
      "test_0_cv_split_37.pth\ttest_3_cv_split_18.pth\ttest_5_cv_split_57.pth\r\n",
      "test_0_cv_split_38.pth\ttest_3_cv_split_19.pth\ttest_5_cv_split_58.pth\r\n",
      "test_0_cv_split_39.pth\ttest_3_cv_split_2.pth\ttest_5_cv_split_59.pth\r\n",
      "test_0_cv_split_4.pth\ttest_3_cv_split_20.pth\ttest_5_cv_split_6.pth\r\n",
      "test_0_cv_split_40.pth\ttest_3_cv_split_21.pth\ttest_5_cv_split_60.pth\r\n",
      "test_0_cv_split_41.pth\ttest_3_cv_split_22.pth\ttest_5_cv_split_61.pth\r\n",
      "test_0_cv_split_42.pth\ttest_3_cv_split_23.pth\ttest_5_cv_split_62.pth\r\n",
      "test_0_cv_split_43.pth\ttest_3_cv_split_24.pth\ttest_5_cv_split_63.pth\r\n",
      "test_0_cv_split_44.pth\ttest_3_cv_split_25.pth\ttest_5_cv_split_64.pth\r\n",
      "test_0_cv_split_45.pth\ttest_3_cv_split_26.pth\ttest_5_cv_split_7.pth\r\n",
      "test_0_cv_split_46.pth\ttest_3_cv_split_27.pth\ttest_5_cv_split_8.pth\r\n",
      "test_0_cv_split_47.pth\ttest_3_cv_split_28.pth\ttest_5_cv_split_9.pth\r\n",
      "test_0_cv_split_48.pth\ttest_3_cv_split_29.pth\ttest_6_cv_split_1.pth\r\n",
      "test_0_cv_split_49.pth\ttest_3_cv_split_3.pth\ttest_6_cv_split_10.pth\r\n",
      "test_0_cv_split_5.pth\ttest_3_cv_split_30.pth\ttest_6_cv_split_11.pth\r\n",
      "test_0_cv_split_50.pth\ttest_3_cv_split_31.pth\ttest_6_cv_split_12.pth\r\n",
      "test_0_cv_split_51.pth\ttest_3_cv_split_32.pth\ttest_6_cv_split_13.pth\r\n",
      "test_0_cv_split_52.pth\ttest_3_cv_split_33.pth\ttest_6_cv_split_14.pth\r\n",
      "test_0_cv_split_53.pth\ttest_3_cv_split_34.pth\ttest_6_cv_split_15.pth\r\n",
      "test_0_cv_split_54.pth\ttest_3_cv_split_35.pth\ttest_6_cv_split_16.pth\r\n",
      "test_0_cv_split_55.pth\ttest_3_cv_split_36.pth\ttest_6_cv_split_17.pth\r\n",
      "test_0_cv_split_56.pth\ttest_3_cv_split_37.pth\ttest_6_cv_split_18.pth\r\n",
      "test_0_cv_split_57.pth\ttest_3_cv_split_38.pth\ttest_6_cv_split_19.pth\r\n",
      "test_0_cv_split_58.pth\ttest_3_cv_split_39.pth\ttest_6_cv_split_2.pth\r\n",
      "test_0_cv_split_59.pth\ttest_3_cv_split_4.pth\ttest_6_cv_split_20.pth\r\n",
      "test_0_cv_split_6.pth\ttest_3_cv_split_40.pth\ttest_6_cv_split_21.pth\r\n",
      "test_0_cv_split_60.pth\ttest_3_cv_split_41.pth\ttest_6_cv_split_22.pth\r\n",
      "test_0_cv_split_61.pth\ttest_3_cv_split_42.pth\ttest_6_cv_split_23.pth\r\n",
      "test_0_cv_split_62.pth\ttest_3_cv_split_43.pth\ttest_6_cv_split_24.pth\r\n",
      "test_0_cv_split_63.pth\ttest_3_cv_split_44.pth\ttest_6_cv_split_25.pth\r\n",
      "test_0_cv_split_64.pth\ttest_3_cv_split_45.pth\ttest_6_cv_split_26.pth\r\n",
      "test_0_cv_split_7.pth\ttest_3_cv_split_46.pth\ttest_6_cv_split_27.pth\r\n",
      "test_0_cv_split_8.pth\ttest_3_cv_split_47.pth\ttest_6_cv_split_28.pth\r\n",
      "test_0_cv_split_9.pth\ttest_3_cv_split_48.pth\ttest_6_cv_split_29.pth\r\n",
      "test_1_cv_split_1.pth\ttest_3_cv_split_49.pth\ttest_6_cv_split_3.pth\r\n",
      "test_1_cv_split_10.pth\ttest_3_cv_split_5.pth\ttest_6_cv_split_30.pth\r\n",
      "test_1_cv_split_11.pth\ttest_3_cv_split_50.pth\ttest_6_cv_split_31.pth\r\n",
      "test_1_cv_split_12.pth\ttest_3_cv_split_51.pth\ttest_6_cv_split_32.pth\r\n",
      "test_1_cv_split_13.pth\ttest_3_cv_split_52.pth\ttest_6_cv_split_33.pth\r\n",
      "test_1_cv_split_14.pth\ttest_3_cv_split_53.pth\ttest_6_cv_split_34.pth\r\n",
      "test_1_cv_split_15.pth\ttest_3_cv_split_54.pth\ttest_6_cv_split_35.pth\r\n",
      "test_1_cv_split_16.pth\ttest_3_cv_split_55.pth\ttest_6_cv_split_36.pth\r\n",
      "test_1_cv_split_17.pth\ttest_3_cv_split_56.pth\ttest_6_cv_split_37.pth\r\n",
      "test_1_cv_split_18.pth\ttest_3_cv_split_57.pth\ttest_6_cv_split_38.pth\r\n",
      "test_1_cv_split_19.pth\ttest_3_cv_split_58.pth\ttest_6_cv_split_39.pth\r\n",
      "test_1_cv_split_2.pth\ttest_3_cv_split_59.pth\ttest_6_cv_split_4.pth\r\n",
      "test_1_cv_split_20.pth\ttest_3_cv_split_6.pth\ttest_6_cv_split_40.pth\r\n",
      "test_1_cv_split_21.pth\ttest_3_cv_split_60.pth\ttest_6_cv_split_41.pth\r\n",
      "test_1_cv_split_22.pth\ttest_3_cv_split_61.pth\ttest_6_cv_split_42.pth\r\n",
      "test_1_cv_split_23.pth\ttest_3_cv_split_62.pth\ttest_6_cv_split_43.pth\r\n",
      "test_1_cv_split_24.pth\ttest_3_cv_split_63.pth\ttest_6_cv_split_44.pth\r\n",
      "test_1_cv_split_25.pth\ttest_3_cv_split_64.pth\ttest_6_cv_split_45.pth\r\n",
      "test_1_cv_split_26.pth\ttest_3_cv_split_7.pth\ttest_6_cv_split_46.pth\r\n",
      "test_1_cv_split_27.pth\ttest_3_cv_split_8.pth\ttest_6_cv_split_47.pth\r\n",
      "test_1_cv_split_28.pth\ttest_3_cv_split_9.pth\ttest_6_cv_split_48.pth\r\n",
      "test_1_cv_split_29.pth\ttest_4_cv_split_1.pth\ttest_6_cv_split_49.pth\r\n",
      "test_1_cv_split_3.pth\ttest_4_cv_split_10.pth\ttest_6_cv_split_5.pth\r\n",
      "test_1_cv_split_30.pth\ttest_4_cv_split_11.pth\ttest_6_cv_split_50.pth\r\n",
      "test_1_cv_split_31.pth\ttest_4_cv_split_12.pth\ttest_6_cv_split_51.pth\r\n",
      "test_1_cv_split_32.pth\ttest_4_cv_split_13.pth\ttest_6_cv_split_52.pth\r\n",
      "test_1_cv_split_33.pth\ttest_4_cv_split_14.pth\ttest_6_cv_split_53.pth\r\n",
      "test_1_cv_split_34.pth\ttest_4_cv_split_15.pth\ttest_6_cv_split_54.pth\r\n",
      "test_1_cv_split_35.pth\ttest_4_cv_split_16.pth\ttest_6_cv_split_55.pth\r\n",
      "test_1_cv_split_36.pth\ttest_4_cv_split_17.pth\ttest_6_cv_split_56.pth\r\n",
      "test_1_cv_split_37.pth\ttest_4_cv_split_18.pth\ttest_6_cv_split_57.pth\r\n",
      "test_1_cv_split_38.pth\ttest_4_cv_split_19.pth\ttest_6_cv_split_58.pth\r\n",
      "test_1_cv_split_39.pth\ttest_4_cv_split_2.pth\ttest_6_cv_split_59.pth\r\n",
      "test_1_cv_split_4.pth\ttest_4_cv_split_20.pth\ttest_6_cv_split_6.pth\r\n",
      "test_1_cv_split_40.pth\ttest_4_cv_split_21.pth\ttest_6_cv_split_60.pth\r\n",
      "test_1_cv_split_41.pth\ttest_4_cv_split_22.pth\ttest_6_cv_split_61.pth\r\n",
      "test_1_cv_split_42.pth\ttest_4_cv_split_23.pth\ttest_6_cv_split_62.pth\r\n",
      "test_1_cv_split_43.pth\ttest_4_cv_split_24.pth\ttest_6_cv_split_63.pth\r\n",
      "test_1_cv_split_44.pth\ttest_4_cv_split_25.pth\ttest_6_cv_split_64.pth\r\n",
      "test_1_cv_split_45.pth\ttest_4_cv_split_26.pth\ttest_6_cv_split_7.pth\r\n",
      "test_1_cv_split_46.pth\ttest_4_cv_split_27.pth\ttest_6_cv_split_8.pth\r\n",
      "test_1_cv_split_47.pth\ttest_4_cv_split_28.pth\ttest_6_cv_split_9.pth\r\n",
      "test_1_cv_split_48.pth\ttest_4_cv_split_29.pth\ttest_7_cv_split_1.pth\r\n",
      "test_1_cv_split_49.pth\ttest_4_cv_split_3.pth\ttest_7_cv_split_10.pth\r\n",
      "test_1_cv_split_5.pth\ttest_4_cv_split_30.pth\ttest_7_cv_split_11.pth\r\n",
      "test_1_cv_split_50.pth\ttest_4_cv_split_31.pth\ttest_7_cv_split_12.pth\r\n",
      "test_1_cv_split_51.pth\ttest_4_cv_split_32.pth\ttest_7_cv_split_13.pth\r\n",
      "test_1_cv_split_52.pth\ttest_4_cv_split_33.pth\ttest_7_cv_split_14.pth\r\n",
      "test_1_cv_split_53.pth\ttest_4_cv_split_34.pth\ttest_7_cv_split_15.pth\r\n",
      "test_1_cv_split_54.pth\ttest_4_cv_split_35.pth\ttest_7_cv_split_16.pth\r\n",
      "test_1_cv_split_55.pth\ttest_4_cv_split_36.pth\ttest_7_cv_split_17.pth\r\n",
      "test_1_cv_split_56.pth\ttest_4_cv_split_37.pth\ttest_7_cv_split_18.pth\r\n",
      "test_1_cv_split_57.pth\ttest_4_cv_split_38.pth\ttest_7_cv_split_19.pth\r\n",
      "test_1_cv_split_58.pth\ttest_4_cv_split_39.pth\ttest_7_cv_split_2.pth\r\n",
      "test_1_cv_split_59.pth\ttest_4_cv_split_4.pth\ttest_7_cv_split_20.pth\r\n",
      "test_1_cv_split_6.pth\ttest_4_cv_split_40.pth\ttest_7_cv_split_21.pth\r\n",
      "test_1_cv_split_60.pth\ttest_4_cv_split_41.pth\ttest_7_cv_split_22.pth\r\n",
      "test_1_cv_split_61.pth\ttest_4_cv_split_42.pth\ttest_7_cv_split_23.pth\r\n",
      "test_1_cv_split_62.pth\ttest_4_cv_split_43.pth\ttest_7_cv_split_24.pth\r\n",
      "test_1_cv_split_63.pth\ttest_4_cv_split_44.pth\ttest_7_cv_split_25.pth\r\n",
      "test_1_cv_split_64.pth\ttest_4_cv_split_45.pth\ttest_7_cv_split_26.pth\r\n",
      "test_1_cv_split_7.pth\ttest_4_cv_split_46.pth\ttest_7_cv_split_27.pth\r\n",
      "test_1_cv_split_8.pth\ttest_4_cv_split_47.pth\ttest_7_cv_split_28.pth\r\n",
      "test_1_cv_split_9.pth\ttest_4_cv_split_48.pth\ttest_7_cv_split_29.pth\r\n",
      "test_2_cv_split_1.pth\ttest_4_cv_split_49.pth\ttest_7_cv_split_3.pth\r\n",
      "test_2_cv_split_10.pth\ttest_4_cv_split_5.pth\ttest_7_cv_split_30.pth\r\n",
      "test_2_cv_split_11.pth\ttest_4_cv_split_50.pth\ttest_7_cv_split_31.pth\r\n",
      "test_2_cv_split_12.pth\ttest_4_cv_split_51.pth\ttest_7_cv_split_32.pth\r\n",
      "test_2_cv_split_13.pth\ttest_4_cv_split_52.pth\ttest_7_cv_split_33.pth\r\n",
      "test_2_cv_split_14.pth\ttest_4_cv_split_53.pth\ttest_7_cv_split_34.pth\r\n",
      "test_2_cv_split_15.pth\ttest_4_cv_split_54.pth\ttest_7_cv_split_35.pth\r\n",
      "test_2_cv_split_16.pth\ttest_4_cv_split_55.pth\ttest_7_cv_split_36.pth\r\n",
      "test_2_cv_split_17.pth\ttest_4_cv_split_56.pth\ttest_7_cv_split_37.pth\r\n",
      "test_2_cv_split_18.pth\ttest_4_cv_split_57.pth\ttest_7_cv_split_38.pth\r\n",
      "test_2_cv_split_19.pth\ttest_4_cv_split_58.pth\ttest_7_cv_split_39.pth\r\n",
      "test_2_cv_split_2.pth\ttest_4_cv_split_59.pth\ttest_7_cv_split_4.pth\r\n",
      "test_2_cv_split_20.pth\ttest_4_cv_split_6.pth\ttest_7_cv_split_40.pth\r\n",
      "test_2_cv_split_21.pth\ttest_4_cv_split_60.pth\ttest_7_cv_split_41.pth\r\n",
      "test_2_cv_split_22.pth\ttest_4_cv_split_61.pth\ttest_7_cv_split_42.pth\r\n",
      "test_2_cv_split_23.pth\ttest_4_cv_split_62.pth\ttest_7_cv_split_43.pth\r\n",
      "test_2_cv_split_24.pth\ttest_4_cv_split_63.pth\ttest_7_cv_split_44.pth\r\n",
      "test_2_cv_split_25.pth\ttest_4_cv_split_64.pth\ttest_7_cv_split_45.pth\r\n",
      "test_2_cv_split_26.pth\ttest_4_cv_split_7.pth\ttest_7_cv_split_46.pth\r\n",
      "test_2_cv_split_27.pth\ttest_4_cv_split_8.pth\ttest_7_cv_split_47.pth\r\n",
      "test_2_cv_split_28.pth\ttest_4_cv_split_9.pth\ttest_7_cv_split_48.pth\r\n",
      "test_2_cv_split_29.pth\ttest_5_cv_split_1.pth\ttest_7_cv_split_49.pth\r\n",
      "test_2_cv_split_3.pth\ttest_5_cv_split_10.pth\ttest_7_cv_split_5.pth\r\n",
      "test_2_cv_split_30.pth\ttest_5_cv_split_11.pth\ttest_7_cv_split_50.pth\r\n",
      "test_2_cv_split_31.pth\ttest_5_cv_split_12.pth\ttest_7_cv_split_51.pth\r\n",
      "test_2_cv_split_32.pth\ttest_5_cv_split_13.pth\ttest_7_cv_split_52.pth\r\n",
      "test_2_cv_split_33.pth\ttest_5_cv_split_14.pth\ttest_7_cv_split_53.pth\r\n",
      "test_2_cv_split_34.pth\ttest_5_cv_split_15.pth\ttest_7_cv_split_54.pth\r\n",
      "test_2_cv_split_35.pth\ttest_5_cv_split_16.pth\ttest_7_cv_split_55.pth\r\n",
      "test_2_cv_split_36.pth\ttest_5_cv_split_17.pth\ttest_7_cv_split_56.pth\r\n",
      "test_2_cv_split_37.pth\ttest_5_cv_split_18.pth\ttest_7_cv_split_57.pth\r\n",
      "test_2_cv_split_38.pth\ttest_5_cv_split_19.pth\ttest_7_cv_split_58.pth\r\n",
      "test_2_cv_split_39.pth\ttest_5_cv_split_2.pth\ttest_7_cv_split_59.pth\r\n",
      "test_2_cv_split_4.pth\ttest_5_cv_split_20.pth\ttest_7_cv_split_6.pth\r\n",
      "test_2_cv_split_40.pth\ttest_5_cv_split_21.pth\ttest_7_cv_split_60.pth\r\n",
      "test_2_cv_split_41.pth\ttest_5_cv_split_22.pth\ttest_7_cv_split_61.pth\r\n",
      "test_2_cv_split_42.pth\ttest_5_cv_split_23.pth\ttest_7_cv_split_62.pth\r\n",
      "test_2_cv_split_43.pth\ttest_5_cv_split_24.pth\ttest_7_cv_split_63.pth\r\n",
      "test_2_cv_split_44.pth\ttest_5_cv_split_25.pth\ttest_7_cv_split_64.pth\r\n",
      "test_2_cv_split_45.pth\ttest_5_cv_split_26.pth\ttest_7_cv_split_7.pth\r\n",
      "test_2_cv_split_46.pth\ttest_5_cv_split_27.pth\ttest_7_cv_split_8.pth\r\n",
      "test_2_cv_split_47.pth\ttest_5_cv_split_28.pth\ttest_7_cv_split_9.pth\r\n",
      "test_2_cv_split_48.pth\ttest_5_cv_split_29.pth\r\n"
     ]
    }
   ],
   "source": [
    "# ckeckpoints for each launch for each epoch\n",
    "!ls ./ckpt"
   ]
  },
  {
   "cell_type": "code",
   "execution_count": 9,
   "id": "8a41a3d4",
   "metadata": {},
   "outputs": [
    {
     "name": "stdout",
     "output_type": "stream",
     "text": [
      "test_0_cv_split  test_2_cv_split  test_4_cv_split  test_6_cv_split\r\n",
      "test_1_cv_split  test_3_cv_split  test_5_cv_split  test_7_cv_split\r\n"
     ]
    }
   ],
   "source": [
    "# tensorboard logs folders for each launch\n",
    "!ls ./logs"
   ]
  },
  {
   "cell_type": "markdown",
   "id": "5b82e2ab",
   "metadata": {},
   "source": [
    "## inference"
   ]
  },
  {
   "cell_type": "code",
   "execution_count": 10,
   "id": "b83a6cf2",
   "metadata": {},
   "outputs": [
    {
     "name": "stderr",
     "output_type": "stream",
     "text": [
      "100%|███████████████████████████████████████████████████████████████████████████████████████████████████████████████████████████████████████████████████████████████████████████████████████████████████████████████████████████████████████████| 8/8 [00:03<00:00,  2.22it/s]\n"
     ]
    }
   ],
   "source": [
    "model = GCN(num_features, width=width, depth=depth)\n",
    "model.to(device)\n",
    "test_loader = DataLoader(test_graphs, shuffle=False, batch_size=batch_size, num_workers=num_workers)\n",
    "    \n",
    "outputs_list = []\n",
    "\n",
    "# it's best to select ckeckpoints manually based on tensorboard logs\n",
    "# but lets just take the last one for each launch\n",
    "selection_dict = {(42, 0): (0, 64),\n",
    "                  (42, 1): (0, 64),\n",
    "                  (42, 2): (0, 64),\n",
    "                  (42, 3): (0, 64),\n",
    "                  (42, 4): (0, 64),\n",
    "                  (42, 5): (0, 64),\n",
    "                  (42, 6): (0, 64),\n",
    "                  (42, 7): (0, 64)}\n",
    "\n",
    "outputs_list = []\n",
    "for index in tqdm(range(n_splits)):\n",
    "    jndex, epoch = selection_dict[(random_state, index)]\n",
    "    exp_name = name + '_' + str(index) + '_cv_split' + '_' + str(epoch) + '.pth'\n",
    "    model.load_state_dict(torch.load(os.path.join('./ckpt', exp_name)))\n",
    "    \n",
    "    # inference defined in utils.py\n",
    "    outputs = inference(model, test_loader)\n",
    "    outputs_list.append(outputs)\n",
    "    \n",
    "outputs_list = np.asarray(outputs_list)"
   ]
  },
  {
   "cell_type": "markdown",
   "id": "3a0ef463",
   "metadata": {},
   "source": [
    "## submission"
   ]
  },
  {
   "cell_type": "code",
   "execution_count": 11,
   "id": "409729c0",
   "metadata": {},
   "outputs": [
    {
     "data": {
      "image/png": "[encoded data removed]",
      "text/plain": [
       "<Figure size 720x720 with 2 Axes>"
      ]
     },
     "metadata": {
      "needs_background": "light"
     },
     "output_type": "display_data"
    }
   ],
   "source": [
    "tmp = outputs_list.copy()\n",
    "tmp = np.vstack([tmp, np.mean(outputs_list, axis=0)[None]])\n",
    "tmp = 1.0 / (1.0 + np.exp(-tmp))\n",
    "for index in range(len(tmp)):\n",
    "    indices = np.argsort(tmp[index])[::-1][:57]\n",
    "    tmp[index] *= 0.0\n",
    "    tmp[index, indices] = 1.0\n",
    "\n",
    "corrs = np.zeros((len(tmp), len(tmp)), dtype=np.float)\n",
    "for index in range(len(tmp)):\n",
    "    for jndex in range(index, len(tmp)):\n",
    "        corrs[index, jndex] = corrs[jndex, index] = np.mean(tmp[index] == tmp[jndex])\n",
    "        \n",
    "plt.figure(figsize=(10, 10))\n",
    "labels = ['split ' + str(index) for index in range(n_splits)] + ['ensemble']\n",
    "sns.heatmap(corrs, xticklabels=labels, yticklabels=labels, square=True, annot=True, fmt='.3f')\n",
    "plt.title('logits cosine similarity')\n",
    "plt.show()"
   ]
  },
  {
   "cell_type": "code",
   "execution_count": 12,
   "id": "b00d6fbe",
   "metadata": {},
   "outputs": [
    {
     "data": {
      "text/plain": [
       "0       False\n",
       "1       False\n",
       "2        True\n",
       "3       False\n",
       "4       False\n",
       "        ...  \n",
       "1609    False\n",
       "1610    False\n",
       "1611    False\n",
       "1612    False\n",
       "1613    False\n",
       "Name: Active, Length: 1614, dtype: bool"
      ]
     },
     "execution_count": 12,
     "metadata": {},
     "output_type": "execute_result"
    }
   ],
   "source": [
    "probs = 1.0 / (1.0 + np.exp(-np.mean(outputs_list, axis=0)))\n",
    "test['Active'] = False\n",
    "pos_labels = np.argsort(probs)[::-1][0:58]\n",
    "test['Active'][pos_labels] = True\n",
    "# test['Active'].values[1495] = False  # <- manually fix some answers?\n",
    "\n",
    "# test f1=0.4348\n",
    "test['Active'].to_csv('submission.csv')\n",
    "test['Active']"
   ]
  },
  {
   "cell_type": "code",
   "execution_count": null,
   "id": "e0871018",
   "metadata": {},
   "outputs": [],
   "source": []
  }
 ],
 "metadata": {
  "kernelspec": {
   "display_name": "Python 3 (ipykernel)",
   "language": "python",
   "name": "python3"
  },
  "language_info": {
   "codemirror_mode": {
    "name": "ipython",
    "version": 3
   },
   "file_extension": ".py",
   "mimetype": "text/x-python",
   "name": "python",
   "nbconvert_exporter": "python",
   "pygments_lexer": "ipython3",
   "version": "3.9.9"
  }
 },
 "nbformat": 4,
 "nbformat_minor": 5
}
