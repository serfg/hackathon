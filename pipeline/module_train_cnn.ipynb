{
 "cells": [
  {
   "cell_type": "code",
   "execution_count": 1,
   "id": "72bdb799",
   "metadata": {},
   "outputs": [],
   "source": [
    "import os\n",
    "import sys\n",
    "import gc; gc.enable()\n",
    "import warnings; warnings.filterwarnings(\"ignore\")\n",
    "\n",
    "import pickle\n",
    "from tqdm import tqdm\n",
    "# import multiprocessing\n",
    "\n",
    "import numpy as np\n",
    "import pandas as pd\n",
    "import seaborn as sns\n",
    "from tabulate import tabulate\n",
    "from matplotlib import pyplot as plt\n",
    "%matplotlib inline\n",
    "\n",
    "import torch\n",
    "import torch.nn as nn\n",
    "import torch.nn.functional as F\n",
    "from torch.utils.tensorboard import SummaryWriter\n",
    "#from torch.utils.data import Dataset, DataLoader\n",
    "\n",
    "import torch_geometric\n",
    "from torch_geometric.nn import GCNConv\n",
    "from torch_geometric.nn import global_max_pool\n",
    "from torch_geometric.loader import DataLoader\n",
    "\n",
    "from openbabel import pybel\n",
    "pybel.ob.obErrorLog.SetOutputLevel(0)\n",
    "\n",
    "from sklearn.model_selection import StratifiedKFold\n",
    "from sklearn.metrics import roc_auc_score, f1_score"
   ]
  },
  {
   "cell_type": "code",
   "execution_count": 2,
   "id": "77aaa89c",
   "metadata": {},
   "outputs": [],
   "source": [
    "data = pd.read_csv('../Clean/train.csv', index_col=0)\n",
    "test = pd.read_csv('../Clean/test.csv', index_col=0)"
   ]
  },
  {
   "cell_type": "markdown",
   "id": "27b5413d",
   "metadata": {},
   "source": [
    "## build graphs"
   ]
  },
  {
   "cell_type": "code",
   "execution_count": 3,
   "id": "0ff2e37b",
   "metadata": {},
   "outputs": [],
   "source": [
    "#from graph_creation_baseline import build_graphs\n",
    "\n",
    "#extra_features_table = pd.read_csv('../atom_features.csv', index_col=0)\n",
    "\n",
    "#data_graphs = build_graphs(np.concatenate([data['Smiles'].values, test['Smiles'].values]),\n",
    "#                           extra_features_table=extra_features_table)\n",
    "#test_graphs = data_graphs[-len(test):]\n",
    "#data_graphs = data_graphs[:-len(test)]\n",
    "#for index in range(len(data_graphs)):\n",
    "#    data_graphs[index].y = int(data['Active'].values[index])"
   ]
  },
  {
   "cell_type": "code",
   "execution_count": 3,
   "id": "8310db9c",
   "metadata": {},
   "outputs": [
    {
     "name": "stderr",
     "output_type": "stream",
     "text": [
      "100%|████████████████████████████████████████████████████████████████████| 5359/5359 [08:20<00:00, 10.70it/s]\n",
      "100%|████████████████████████████████████████████████████████████████████| 1614/1614 [02:55<00:00,  9.22it/s]\n"
     ]
    }
   ],
   "source": [
    "from pybel_molecule import build_molecules_pybel\n",
    "\n",
    "data_molecules = build_molecules_pybel(data['Smiles'].values)\n",
    "data_targets = data['Active'].values.astype(np.int64)\n",
    "for index in range(len(data_molecules)):\n",
    "    data_molecules[index].y = int(data['Active'].values[index])\n",
    "\n",
    "test_molecules = build_molecules_pybel(test['Smiles'].values, fixed=True)"
   ]
  },
  {
   "cell_type": "markdown",
   "id": "5bbd2176",
   "metadata": {},
   "source": [
    "## engine"
   ]
  },
  {
   "cell_type": "code",
   "execution_count": 4,
   "id": "25c812f5",
   "metadata": {},
   "outputs": [],
   "source": [
    "from utils import *"
   ]
  },
  {
   "cell_type": "code",
   "execution_count": null,
   "id": "c8dfc25f",
   "metadata": {},
   "outputs": [],
   "source": [
    "from torch.utils.data import Dataset, DataLoader\n",
    "\n",
    "class MoleculeDataset(Dataset):\n",
    "    def __init__(self, molecules, targets=None, augment=False):\n",
    "        self.molecules, self.targets = molecules, targets\n",
    "        self.augment = augment\n",
    "    \n",
    "    \n",
    "    def __len__(self):\n",
    "        return len(self.molecules)\n",
    "    \n",
    "    \n",
    "    def __getitem__(self, index):\n",
    "        if self.augment:\n",
    "            self.molecules[index].augment()\n",
    "        tensor = self.molecules[index].build_tensor()\n",
    "        if self.targets is None:\n",
    "            return {'tensor': tensor}\n",
    "        target = self.targets[index]\n",
    "        return {'tensor': tensor, 'target': target}"
   ]
  },
  {
   "cell_type": "markdown",
   "id": "abf5ab5f",
   "metadata": {},
   "source": [
    "## model"
   ]
  },
  {
   "cell_type": "code",
   "execution_count": 5,
   "id": "b4706cf4",
   "metadata": {},
   "outputs": [],
   "source": [
    "import torch\n",
    "import torch.nn as nn\n",
    "from timm.models.resnet import resnet18\n",
    "\n",
    "#def build_model(num_channels):\n",
    "\n",
    "class ModelResnet18(nn.Module):\n",
    "    def __init__(self, num_features):\n",
    "        super(self.__class__, self).__init__()\n",
    "        self.model = resnet18(pretrained=False)\n",
    "        self.model.conv1 = nn.Conv2d(num_features, 64, kernel_size=(5, 5), stride=(2, 2), padding=(2, 2), bias=False)\n",
    "        self.model.fc = nn.Linear(in_features=512, out_features=1, bias=True)\n",
    "        \n",
    "    def forward(self, x):\n",
    "        return self.model.forward(x)[:, 0]"
   ]
  },
  {
   "cell_type": "markdown",
   "id": "884e6fd6",
   "metadata": {},
   "source": [
    "## args"
   ]
  },
  {
   "cell_type": "code",
   "execution_count": 9,
   "id": "7b48c536",
   "metadata": {},
   "outputs": [],
   "source": [
    "# data split args\n",
    "n_splits, random_state = 8, 42\n",
    "\n",
    "# positive objects rebalance args\n",
    "num_pos_repeats, pos_weight = 4, 6.0\n",
    "\n",
    "# model args\n",
    "num_features, width, depth = 46, 256, 2\n",
    "device = torch.device('cuda:0')\n",
    "\n",
    "# fit args\n",
    "batch_size, num_workers = 32, 8\n",
    "lr, num_epochs = 1e-3, 64\n",
    "\n",
    "# name for logs and checkpoints\n",
    "name = 'cv_'"
   ]
  },
  {
   "cell_type": "markdown",
   "id": "3166b970",
   "metadata": {},
   "source": [
    "## train"
   ]
  },
  {
   "cell_type": "code",
   "execution_count": 10,
   "id": "6b336fe7",
   "metadata": {
    "scrolled": true
   },
   "outputs": [
    {
     "name": "stderr",
     "output_type": "stream",
     "text": [
      "100%|████████████████████████████████████████████████████████████████████████| 64/64 [14:00<00:00, 13.13s/it]\n",
      "100%|████████████████████████████████████████████████████████████████████████| 64/64 [13:53<00:00, 13.03s/it]\n",
      "100%|████████████████████████████████████████████████████████████████████████| 64/64 [13:53<00:00, 13.02s/it]\n",
      "100%|████████████████████████████████████████████████████████████████████████| 64/64 [13:28<00:00, 12.64s/it]\n",
      "100%|████████████████████████████████████████████████████████████████████████| 64/64 [13:25<00:00, 12.58s/it]\n",
      "100%|████████████████████████████████████████████████████████████████████████| 64/64 [14:24<00:00, 13.51s/it]\n",
      "100%|████████████████████████████████████████████████████████████████████████| 64/64 [14:36<00:00, 13.69s/it]\n",
      "100%|████████████████████████████████████████████████████████████████████████| 64/64 [13:37<00:00, 12.78s/it]\n"
     ]
    },
    {
     "ename": "Exception",
     "evalue": "done!",
     "output_type": "error",
     "traceback": [
      "\u001b[0;31m---------------------------------------------------------------------------\u001b[0m",
      "\u001b[0;31mException\u001b[0m                                 Traceback (most recent call last)",
      "\u001b[0;32m/tmp/ipykernel_277818/4258935234.py\u001b[0m in \u001b[0;36m<module>\u001b[0;34m\u001b[0m\n\u001b[1;32m     42\u001b[0m     \u001b[0;31m#f1s.append(trainer.adaptive_f1s[trainer.best_epoch - 1])\u001b[0m\u001b[0;34m\u001b[0m\u001b[0;34m\u001b[0m\u001b[0m\n\u001b[1;32m     43\u001b[0m \u001b[0;34m\u001b[0m\u001b[0m\n\u001b[0;32m---> 44\u001b[0;31m \u001b[0;32mraise\u001b[0m \u001b[0mException\u001b[0m\u001b[0;34m(\u001b[0m\u001b[0;34m'done!'\u001b[0m\u001b[0;34m)\u001b[0m\u001b[0;34m\u001b[0m\u001b[0;34m\u001b[0m\u001b[0m\n\u001b[0m",
      "\u001b[0;31mException\u001b[0m: done!"
     ]
    }
   ],
   "source": [
    "from torch.utils.data import DataLoader\n",
    "\n",
    "#thrs, f1s = [], []\n",
    "for index in range(n_splits):\n",
    "    cv = StratifiedKFold(n_splits=n_splits, shuffle=True, random_state=random_state)\n",
    "    tmp = cv.split(data['Smiles'].values, data['Active'].values.astype(np.int64))\n",
    "\n",
    "    for _ in range(index + 1):\n",
    "        train_indices, val_indices = tmp.__next__()\n",
    "\n",
    "    train_molecules = [data_molecules[index] for index in train_indices]\n",
    "    val_molecules = [data_molecules[index] for index in val_indices]\n",
    "    \n",
    "    train_targets = [data_targets[index] for index in train_indices]\n",
    "    val_targets = [data_targets[index] for index in val_indices]\n",
    "\n",
    "    #positive_train_graphs = [graph for graph in train_graphs if graph.y]\n",
    "    #if num_pos_repeats > 1:\n",
    "    #    train_graphs = train_graphs + positive_train_graphs * (num_pos_repeats - 1)\n",
    "\n",
    "    train_loader = DataLoader(MoleculeDataset(train_molecules, targets=train_targets),\n",
    "                              shuffle=True, batch_size=batch_size, num_workers=num_workers)\n",
    "    val_loader = DataLoader(MoleculeDataset(val_molecules, targets=val_targets),\n",
    "                            shuffle=False, batch_size=batch_size, num_workers=num_workers)\n",
    "    test_loader = DataLoader(MoleculeDataset(test_molecules),\n",
    "                             shuffle=False, batch_size=batch_size, num_workers=num_workers)\n",
    "\n",
    "    model = Model(num_features)  # <- GCN defined in models.py, feel free to add more\n",
    "    model.to(device)\n",
    "\n",
    "    opt = torch.optim.Adam(model.parameters(), lr=lr)\n",
    "\n",
    "    exp_name = name + '_' + str(index) + '_cv_split'\n",
    "    \n",
    "    # trainer defined in utils.py\n",
    "    trainer = Trainer(model, opt, None, train_loader, val_loader, num_epochs,\n",
    "                      graph_data=False, weight=pos_weight, step='step', backup_by='all',\n",
    "                      logs_path='./logs', path_to_save='./ckpt', exp_name=exp_name, verbose=0)\n",
    "    trainer.run()\n",
    "\n",
    "    #thrs.append(trainer.thr)\n",
    "    #f1s.append(trainer.adaptive_f1s[trainer.best_epoch - 1])\n",
    "\n",
    "raise Exception('done!')"
   ]
  },
  {
   "cell_type": "markdown",
   "id": "693f2986",
   "metadata": {},
   "source": [
    "## inference"
   ]
  },
  {
   "cell_type": "code",
   "execution_count": 13,
   "id": "fcd3b751",
   "metadata": {},
   "outputs": [
    {
     "name": "stderr",
     "output_type": "stream",
     "text": [
      "100%|██████████████████████████████████████████████████████████████████████████| 8/8 [00:31<00:00,  3.94s/it]\n"
     ]
    }
   ],
   "source": [
    "model = Model(num_features)\n",
    "model.to(device)\n",
    "test_loader = DataLoader(MoleculeDataset(test_molecules),\n",
    "                         shuffle=False, batch_size=batch_size, num_workers=num_workers)\n",
    "    \n",
    "outputs_list = []\n",
    "\n",
    "# it's best to select ckeckpoints manually based on tensorboard logs\n",
    "# but lets just take the last one for each launch\n",
    "selection_dict = {(random_state, 0): (0, 64),\n",
    "                  (random_state, 1): (0, 64),\n",
    "                  (random_state, 2): (0, 64),\n",
    "                  (random_state, 3): (0, 64),\n",
    "                  (random_state, 4): (0, 64),\n",
    "                  (random_state, 5): (0, 64),\n",
    "                  (random_state, 6): (0, 64),\n",
    "                  (random_state, 7): (0, 64)}\n",
    "\n",
    "outputs_list = []\n",
    "for index in tqdm(range(n_splits)):\n",
    "    jndex, epoch = selection_dict[(random_state, index)]\n",
    "    exp_name = name + '_' + str(index) + '_cv_split' + '_' + str(epoch) + '.pth'\n",
    "    model.load_state_dict(torch.load(os.path.join('./ckpt', exp_name)))\n",
    "    \n",
    "    # inference defined in utils.py\n",
    "    outputs = inference(model, test_loader)\n",
    "    outputs_list.append(outputs)\n",
    "    \n",
    "outputs_list = np.asarray(outputs_list)"
   ]
  },
  {
   "cell_type": "markdown",
   "id": "3a0ef463",
   "metadata": {},
   "source": [
    "## submission"
   ]
  },
  {
   "cell_type": "code",
   "execution_count": 15,
   "id": "409729c0",
   "metadata": {},
   "outputs": [
    {
     "data": {
      "image/png": "[encoded data removed]",
      "text/plain": [
       "<Figure size 720x720 with 2 Axes>"
      ]
     },
     "metadata": {
      "needs_background": "light"
     },
     "output_type": "display_data"
    }
   ],
   "source": [
    "tmp = outputs_list.copy()\n",
    "tmp = np.vstack([tmp, np.mean(outputs_list, axis=0)[None]])\n",
    "tmp = 1.0 / (1.0 + np.exp(-tmp))\n",
    "for index in range(len(tmp)):\n",
    "    indices = np.argsort(tmp[index])[::-1][:57]\n",
    "    tmp[index] *= 0.0\n",
    "    tmp[index, indices] = 1.0\n",
    "\n",
    "corrs = np.zeros((len(tmp), len(tmp)), dtype=np.float)\n",
    "for index in range(len(tmp)):\n",
    "    for jndex in range(index, len(tmp)):\n",
    "        corrs[index, jndex] = corrs[jndex, index] = np.mean(tmp[index] == tmp[jndex])\n",
    "        \n",
    "plt.figure(figsize=(10, 10))\n",
    "labels = ['split ' + str(index) for index in range(n_splits)] + ['ensemble']\n",
    "sns.heatmap(corrs, xticklabels=labels, yticklabels=labels, square=True, annot=True, fmt='.3f')\n",
    "plt.title('logits cosine similarity')\n",
    "plt.show()"
   ]
  },
  {
   "cell_type": "code",
   "execution_count": 16,
   "id": "b00d6fbe",
   "metadata": {},
   "outputs": [
    {
     "data": {
      "text/plain": [
       "0       False\n",
       "1       False\n",
       "2        True\n",
       "3       False\n",
       "4       False\n",
       "        ...  \n",
       "1609    False\n",
       "1610    False\n",
       "1611    False\n",
       "1612    False\n",
       "1613    False\n",
       "Name: Active, Length: 1614, dtype: bool"
      ]
     },
     "execution_count": 16,
     "metadata": {},
     "output_type": "execute_result"
    }
   ],
   "source": [
    "probs = 1.0 / (1.0 + np.exp(-np.mean(outputs_list, axis=0)))\n",
    "test['Active'] = False\n",
    "pos_labels = np.argsort(probs)[::-1][0:57]\n",
    "test['Active'][pos_labels] = True\n",
    "test['Active'].values[1495] = False  # <- manually fix some answers?\n",
    "\n",
    "# test f1=0.4348\n",
    "test['Active'].to_csv('submission_cv.csv')\n",
    "test['Active']"
   ]
  },
  {
   "cell_type": "code",
   "execution_count": 44,
   "id": "870c36a7",
   "metadata": {},
   "outputs": [
    {
     "data": {
      "text/plain": [
       "3"
      ]
     },
     "execution_count": 44,
     "metadata": {},
     "output_type": "execute_result"
    }
   ],
   "source": [
    "test.iloc[[27, 54, 60, 167, 177, 187, 213, 220, 239, 255, 256, 260, 272, 296, 358, 366, 372, 386, 389, 402, 427, 447, 455, 487, 489, 492, 497, 521, 529, 531, 539, 542, 545, 564, 572, 590, 654, 662, 695, 698, 703, 740, 754, 779, 793, 805, 824, 832, 852, 853, 871, 888, 922, 951, 954, 961, 966, 974, 979, 990, 992, 1047, 1053, 1057, 1082, 1099, 1101, 1114, 1135, 1154, 1156, 1159, 1191, 1192, 1209, 1230, 1233, 1242, 1249, 1355, 1358, 1367, 1389, 1396, 1411, 1425, 1495, 1501, 1522, 1523, 1542, 1544, 1547, 1583, 1593, 1607]]['Active'].values.sum()"
   ]
  },
  {
   "cell_type": "code",
   "execution_count": null,
   "id": "52e8548d",
   "metadata": {},
   "outputs": [],
   "source": []
  }
 ],
 "metadata": {
  "kernelspec": {
   "display_name": "Python 3 (ipykernel)",
   "language": "python",
   "name": "python3"
  },
  "language_info": {
   "codemirror_mode": {
    "name": "ipython",
    "version": 3
   },
   "file_extension": ".py",
   "mimetype": "text/x-python",
   "name": "python",
   "nbconvert_exporter": "python",
   "pygments_lexer": "ipython3",
   "version": "3.9.9"
  }
 },
 "nbformat": 4,
 "nbformat_minor": 5
}
