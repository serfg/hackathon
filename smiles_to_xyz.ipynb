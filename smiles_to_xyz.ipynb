{
 "cells": [
  {
   "cell_type": "code",
   "execution_count": 1,
   "id": "2ac064ae",
   "metadata": {},
   "outputs": [],
   "source": [
    "import os\n",
    "import pandas as pd\n",
    "import numpy as np\n",
    "import pylab as plt\n",
    "from openbabel import openbabel as ob\n",
    "from openbabel import pybel as pb\n",
    "from tqdm.auto import tqdm\n",
    "from pymatgen import Molecule"
   ]
  },
  {
   "cell_type": "code",
   "execution_count": 2,
   "id": "e1535c0d",
   "metadata": {},
   "outputs": [],
   "source": [
    "train = pd.read_csv(\"Task/train.csv\", index_col=0)\n",
    "train[\"Smiles\"].replace(\"se\", \"Se\", inplace=True, regex=True)\n",
    "test = pd.read_csv(\"Task/test.csv\", index_col=0)"
   ]
  },
  {
   "cell_type": "code",
   "execution_count": 3,
   "id": "eed1447a",
   "metadata": {},
   "outputs": [
    {
     "data": {
      "text/plain": [
       "['gaff', 'ghemical', 'mmff94', 'mmff94s', 'uff']"
      ]
     },
     "execution_count": 3,
     "metadata": {},
     "output_type": "execute_result"
    }
   ],
   "source": [
    "pb.forcefields"
   ]
  },
  {
   "cell_type": "code",
   "execution_count": 5,
   "id": "2e558b01",
   "metadata": {},
   "outputs": [],
   "source": [
    "def xyz_from_smiles(smiles, forcefield=\"mmff94\", steps=50, folder=None):\n",
    "    \"\"\" Finds xyz coordinates of molecules from smile strings\"\"\"\n",
    "    \n",
    "    mols = []\n",
    "    mols_smi = [pb.readstring('smi', mol) for mol in smiles]\n",
    "    if folder:\n",
    "        os.makedirs(folder, exist_ok=True)\n",
    "    for idx, mol in tqdm(enumerate(mols_smi), total=len(mols_smi)):\n",
    "\n",
    "        # optimize 3D geometry\n",
    "        mol.make3D(forcefield=forcefield, steps=steps)\n",
    "        mol.localopt(forcefield=forcefield, steps=steps)\n",
    "\n",
    "        # convert to pymatgen class\n",
    "        species = []\n",
    "        coords = []\n",
    "        for atom in ob.OBMolAtomIter(mol.OBMol):\n",
    "            species.append(atom.GetAtomicNum())\n",
    "            coords.append([atom.GetX(), atom.GetY(), atom.GetZ()])\n",
    "        mol = Molecule(species, coords)\n",
    "        if folder:\n",
    "            mol.to(filename=f\"{folder}/{idx}.xyz\")\n",
    "        mols.append(mol)\n",
    "    return mols"
   ]
  },
  {
   "cell_type": "code",
   "execution_count": 7,
   "id": "68820e42",
   "metadata": {},
   "outputs": [
    {
     "data": {
      "application/vnd.jupyter.widget-view+json": {
       "model_id": "927d7708c9bf4ca8a0ed46e5bd16ac83",
       "version_major": 2,
       "version_minor": 0
      },
      "text/plain": [
       "  0%|          | 0/5557 [00:00<?, ?it/s]"
      ]
     },
     "metadata": {},
     "output_type": "display_data"
    },
    {
     "data": {
      "application/vnd.jupyter.widget-view+json": {
       "model_id": "9b7230008fb2432eb76f2b9632c3326c",
       "version_major": 2,
       "version_minor": 0
      },
      "text/plain": [
       "  0%|          | 0/1614 [00:00<?, ?it/s]"
      ]
     },
     "metadata": {},
     "output_type": "display_data"
    }
   ],
   "source": [
    "train_xyz = xyz_from_smiles(train[\"Smiles\"], folder=\"structures/train\")\n",
    "test_xyz = xyz_from_smiles(test[\"Smiles\"], folder=\"structures/test\")"
   ]
  }
 ],
 "metadata": {
  "kernelspec": {
   "display_name": "Python 3",
   "language": "python",
   "name": "python3"
  },
  "language_info": {
   "codemirror_mode": {
    "name": "ipython",
    "version": 3
   },
   "file_extension": ".py",
   "mimetype": "text/x-python",
   "name": "python",
   "nbconvert_exporter": "python",
   "pygments_lexer": "ipython3",
   "version": "3.7.6"
  },
  "toc": {
   "base_numbering": 1,
   "nav_menu": {},
   "number_sections": true,
   "sideBar": true,
   "skip_h1_title": false,
   "title_cell": "Table of Contents",
   "title_sidebar": "Contents",
   "toc_cell": false,
   "toc_position": {},
   "toc_section_display": true,
   "toc_window_display": false
  }
 },
 "nbformat": 4,
 "nbformat_minor": 5
}
