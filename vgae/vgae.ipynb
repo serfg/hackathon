{
 "cells": [
  {
   "cell_type": "markdown",
   "id": "ba5c2fad",
   "metadata": {},
   "source": [
    "https://arxiv.org/pdf/1609.02907.pdf\n",
    "\n",
    "https://arxiv.org/pdf/1611.07308.pdf\n",
    "\n",
    "https://arxiv.org/pdf/2009.03294.pdf"
   ]
  },
  {
   "cell_type": "markdown",
   "id": "8aabdb6e",
   "metadata": {},
   "source": [
    "## Imports"
   ]
  },
  {
   "cell_type": "code",
   "execution_count": 1,
   "id": "c920a8f1",
   "metadata": {},
   "outputs": [],
   "source": [
    "import os\n",
    "import sys\n",
    "import random\n",
    "import pickle\n",
    "import multiprocessing\n",
    "import gc; gc.enable()\n",
    "import warnings\n",
    "warnings.filterwarnings(\"ignore\")\n",
    "\n",
    "import numpy as np\n",
    "import pandas as pd\n",
    "from tqdm import tqdm\n",
    "\n",
    "from openbabel import pybel\n",
    "\n",
    "from IPython.display import clear_output\n",
    "from matplotlib import pyplot as plt\n",
    "%matplotlib inline\n",
    "\n",
    "import torch\n",
    "import torch.nn as nn\n",
    "import torch.nn.functional as F\n",
    "from torch.utils.tensorboard import SummaryWriter\n",
    "\n",
    "import torch_geometric\n",
    "from torch_geometric.data import Data as GraphData\n",
    "from torch_geometric.loader import DataLoader as GraphDataLoader"
   ]
  },
  {
   "cell_type": "markdown",
   "id": "31883c69",
   "metadata": {},
   "source": [
    "## SMILES from PubChem"
   ]
  },
  {
   "cell_type": "code",
   "execution_count": 2,
   "id": "073c9af6",
   "metadata": {},
   "outputs": [],
   "source": [
    "data = pd.read_csv('./data/PubChem_compound_list_3Zp66bdu0tLl_Frl2J0TySfder3kFKFH22K6C8BzqArAapQ.csv',\n",
    "                   usecols=['isosmiles'])\n",
    "data.columns = ['Smiles']"
   ]
  },
  {
   "cell_type": "markdown",
   "id": "6c498e24",
   "metadata": {},
   "source": [
    "## Process SMILES to obtain atoms/bonds data"
   ]
  },
  {
   "cell_type": "code",
   "execution_count": 3,
   "id": "e058c01e",
   "metadata": {},
   "outputs": [],
   "source": [
    "def process_smiles(smiles):\n",
    "    try:\n",
    "        mol = pybel.readstring('smi', smiles)\n",
    "        mol.addh()\n",
    "        mol = mol.OBMol\n",
    "        num_atoms, num_bonds = mol.NumAtoms(), mol.NumBonds()\n",
    "\n",
    "        atoms = np.zeros(num_atoms, dtype=object)\n",
    "        bonds = np.zeros((num_bonds, 2), dtype=int)\n",
    "        orders = np.zeros(num_bonds, dtype=int)\n",
    "\n",
    "        for index in range(num_atoms):\n",
    "            atom = mol.GetAtomById(index)\n",
    "            atoms[index] = atom.GetType()\n",
    "\n",
    "        for index in range(num_bonds):\n",
    "            bond = mol.GetBond(index)\n",
    "            bonds[index] = [bond.GetBeginAtom().GetId(), bond.GetEndAtom().GetId()]\n",
    "            orders[index] = bond.GetBondOrder()\n",
    "\n",
    "        return atoms, bonds, orders, smiles\n",
    "    \n",
    "    except:\n",
    "        return None, None, None, None"
   ]
  },
  {
   "cell_type": "code",
   "execution_count": 4,
   "id": "d962dd91",
   "metadata": {},
   "outputs": [
    {
     "name": "stderr",
     "output_type": "stream",
     "text": [
      "100%|██████████████████████████████████████████████████████████████████████████████████████████████████████████████████████████████████████████████████████████████████████████████████████████████████████████████████████████████████| 4096/4096 [00:00<00:00, 25928.16it/s]\n"
     ]
    }
   ],
   "source": [
    "smiles_list_all = data['Smiles'].values\n",
    "\n",
    "pool = multiprocessing.Pool(processes=multiprocessing.cpu_count())\n",
    "tmp = pool.map(process_smiles, tqdm(smiles_list_all))"
   ]
  },
  {
   "cell_type": "code",
   "execution_count": 5,
   "id": "0122d06e",
   "metadata": {},
   "outputs": [
    {
     "name": "stderr",
     "output_type": "stream",
     "text": [
      "100%|█████████████████████████████████████████████████████████████████████████████████████████████████████████████████████████████████████████████████████████████████████████████████████████████████████████████████████████████████| 4096/4096 [00:00<00:00, 921716.25it/s]\n",
      "100%|████████████████████████████████████████████████████████████████████████████████████████████████████████████████████████████████████████████████████████████████████████████████████████████████████████████████████████████████| 4096/4096 [00:00<00:00, 2127801.48it/s]\n",
      "100%|████████████████████████████████████████████████████████████████████████████████████████████████████████████████████████████████████████████████████████████████████████████████████████████████████████████████████████████████| 4096/4096 [00:00<00:00, 2326319.46it/s]\n",
      "100%|████████████████████████████████████████████████████████████████████████████████████████████████████████████████████████████████████████████████████████████████████████████████████████████████████████████████████████████████| 4096/4096 [00:00<00:00, 2370291.00it/s]\n",
      "100%|████████████████████████████████████████████████████████████████████████████████████████████████████████████████████████████████████████████████████████████████████████████████████████████████████████████████████████████████| 4096/4096 [00:00<00:00, 2368656.99it/s]\n"
     ]
    }
   ],
   "source": [
    "mask = [(item[1] is not None and len(item[1]) > 0 and len(item[0]) < 128) for item in tqdm(tmp)]\n",
    "\n",
    "atoms_list = [item[0] for item, flag in zip(tqdm(tmp), mask) if flag]\n",
    "bonds_list = [item[1] for item, flag in zip(tqdm(tmp), mask) if flag]\n",
    "orders_list = [item[2] for item, flag in zip(tqdm(tmp), mask) if flag]\n",
    "smiles_list = [item[3] for item, flag in zip(tqdm(tmp), mask) if flag]"
   ]
  },
  {
   "cell_type": "code",
   "execution_count": 6,
   "id": "dae7caee",
   "metadata": {},
   "outputs": [],
   "source": [
    "#import pickle\n",
    "#pickle.dump((atoms_list, bonds_list, orders_list, smiles_list), open('data.pkl', 'wb'))"
   ]
  },
  {
   "cell_type": "code",
   "execution_count": 7,
   "id": "d6d5f179",
   "metadata": {},
   "outputs": [],
   "source": [
    "#import pickle\n",
    "#atoms_list, bonds_list, orders_list, smiles_list = pickle.load(open('data.pkl', 'rb'))"
   ]
  },
  {
   "cell_type": "markdown",
   "id": "7258c7f3",
   "metadata": {},
   "source": [
    "## Create atoms dictionary and build graphs"
   ]
  },
  {
   "cell_type": "code",
   "execution_count": 8,
   "id": "72083e7e",
   "metadata": {},
   "outputs": [
    {
     "name": "stderr",
     "output_type": "stream",
     "text": [
      "100%|█████████████████████████████████████████████████████████████████████████████████████████████████████████████████████████████████████████████████████████████████████████████████████████████████████████████████████████████████| 4043/4043 [00:00<00:00, 240857.48it/s]\n",
      "100%|█████████████████████████████████████████████████████████████████████████████████████████████████████████████████████████████████████████████████████████████████████████████████████████████████████████████████████████████████| 4043/4043 [00:00<00:00, 124985.78it/s]\n"
     ]
    },
    {
     "data": {
      "text/plain": [
       "{'H': 0, 'Car': 1, 'C3': 2, 'UNK': 3}"
      ]
     },
     "execution_count": 8,
     "metadata": {},
     "output_type": "execute_result"
    }
   ],
   "source": [
    "dictionary = set()\n",
    "for item in tqdm(atoms_list):\n",
    "    dictionary = dictionary.union(set(item))\n",
    "    \n",
    "counts = {item: 0 for item in dictionary}\n",
    "for item in tqdm(atoms_list):\n",
    "    for jtem in item:\n",
    "        counts[jtem] += 1\n",
    "        \n",
    "dictionary, index = dict(), 0\n",
    "for key, value in counts.items():\n",
    "    if value < 10000:\n",
    "        continue\n",
    "    dictionary[key] = index\n",
    "    index += 1\n",
    "dictionary['UNK'] = index\n",
    "dictionary"
   ]
  },
  {
   "cell_type": "code",
   "execution_count": 9,
   "id": "12a4fd84",
   "metadata": {},
   "outputs": [
    {
     "name": "stderr",
     "output_type": "stream",
     "text": [
      "100%|██████████████████████████████████████████████████████████████████████████████████████████████████████████████████████████████████████████████████████████████████████████████████████████████████████████████████████████████████| 4043/4043 [00:00<00:00, 10442.81it/s]\n"
     ]
    }
   ],
   "source": [
    "def build_graph(atoms, bonds, orders, dictionary):\n",
    "    x = np.asarray([dictionary[atom] if atom in dictionary.keys() else dictionary['UNK'] for atom in atoms],\n",
    "                   dtype=np.int64)    \n",
    "\n",
    "    edge_index = np.zeros((2, len(bonds)), dtype=np.int64)\n",
    "    for index, (bond, order) in enumerate(zip(bonds, orders)):\n",
    "        edge_index[:, index] = bond\n",
    "        \n",
    "    return GraphData(x=torch.LongTensor(x), edge_index=torch.LongTensor(edge_index))\n",
    "\n",
    "\n",
    "#pool = multiprocessing.Pool(processes=multiprocessing.cpu_count())\n",
    "#graphs = pool.map(lambda index: build_graph(atoms_list[index],\n",
    "#                                            bonds_list[index],\n",
    "#                                            orders_list[index],\n",
    "#                                            dictionary), tqdm(np.arange(len(atoms_list))))\n",
    "\n",
    "graphs = [build_graph(atoms_list[index],\n",
    "                      bonds_list[index],\n",
    "                      orders_list[index],\n",
    "                      dictionary) for index in tqdm(np.arange(len(atoms_list)))]\n",
    "random.shuffle(graphs)"
   ]
  },
  {
   "cell_type": "markdown",
   "id": "ce36c1ce",
   "metadata": {},
   "source": [
    "## (Optional: dump or load dictionary and graphs)"
   ]
  },
  {
   "cell_type": "code",
   "execution_count": 10,
   "id": "06544da1",
   "metadata": {},
   "outputs": [],
   "source": [
    "#pickle.dump(dictionary, open('dictionary.pkl', 'wb'))\n",
    "#pickle.dump(graphs, open('graphs.pkl', 'wb'))\n",
    "\n",
    "#dictionary = pickle.load(open('dictionary.pkl', 'rb'))\n",
    "#graphs = pickle.load(open('graphs.pkl', 'rb'))"
   ]
  },
  {
   "cell_type": "markdown",
   "id": "d4914bbb",
   "metadata": {},
   "source": [
    "## VGAE Encoder"
   ]
  },
  {
   "cell_type": "code",
   "execution_count": 11,
   "id": "bb6c954d",
   "metadata": {},
   "outputs": [],
   "source": [
    "class VariationalGCNEncoder(torch.nn.Module):\n",
    "    def __init__(self, dict_size, out_channels, depth):\n",
    "        super(VariationalGCNEncoder, self).__init__()\n",
    "        self.emb = nn.Embedding(dict_size, out_channels)\n",
    "        self.convs = nn.ModuleList([nn.Sequential(torch_geometric.nn.GCNConv(out_channels, out_channels),\n",
    "                                                  torch_geometric.nn.GraphConv(out_channels, out_channels))\n",
    "                                    for _ in range(depth)])\n",
    "        self.conv_mu = torch_geometric.nn.GCNConv(out_channels, out_channels)\n",
    "        self.conv_logstd = torch_geometric.nn.GCNConv(out_channels, out_channels)\n",
    "\n",
    "    def forward(self, x, edge_index):\n",
    "        x = self.emb.forward(x)\n",
    "        for conv in self.convs:\n",
    "            x = conv[0].forward(x, edge_index)\n",
    "            x = conv[1].forward(x, edge_index)\n",
    "            x = torch.relu(x)\n",
    "        return self.conv_mu.forward(x, edge_index), self.conv_logstd.forward(x, edge_index)"
   ]
  },
  {
   "cell_type": "markdown",
   "id": "83285abc",
   "metadata": {},
   "source": [
    "## Engine"
   ]
  },
  {
   "cell_type": "code",
   "execution_count": 12,
   "id": "32bd0ae5",
   "metadata": {},
   "outputs": [],
   "source": [
    "def iterate_loader(model, opt, scheduler, graphs, epoch, writer, path_to_save,\n",
    "                   aggregate=128, delta=1024, device=torch.device('cuda:0')):\n",
    "    def build_neg_edges(x, edge_index):\n",
    "        tmp = edge_index.numpy()\n",
    "        edge_index_set = set([(tmp[0, index], tmp[1, index]) for index in range(tmp.shape[1])])\n",
    "        result = []\n",
    "        for index in range(len(x)):\n",
    "            for jndex in range(index + 1, len(x)):\n",
    "                if (index, jndex) not in edge_index_set:\n",
    "                    result.append([index, jndex])\n",
    "        return torch.LongTensor(np.asarray(result).T)\n",
    "\n",
    "    losses, aucs = [], []\n",
    "    losses_mean, aucs_mean = [], []\n",
    "    for index, batch in enumerate(tqdm(graphs, desc=str(epoch) + ' epoch')):\n",
    "        x, edge_index = batch.x, batch.edge_index\n",
    "        neg_edge_index = build_neg_edges(x, edge_index)\n",
    "        if len(neg_edge_index) == 0:\n",
    "            continue\n",
    "        x, edge_index, neg_edge_index = x.to(device), edge_index.to(device), neg_edge_index.to(device)\n",
    "        \n",
    "        with torch.no_grad():\n",
    "            model.train(False)\n",
    "            z = model.encode(x, edge_index)\n",
    "            auc, _ = model.test(z, edge_index, neg_edge_index)\n",
    "            aucs.append(auc)\n",
    "\n",
    "        model.train(True)\n",
    "        z = model.encode(x, edge_index)\n",
    "        loss = model.recon_loss(z, edge_index)\n",
    "        loss = loss + (1 / x.shape[0]) * model.kl_loss()\n",
    "\n",
    "        losses.append(loss.detach().cpu().numpy())        \n",
    "        loss.backward()\n",
    "        \n",
    "        if (index + 1) % aggregate == 0:\n",
    "            opt.step()\n",
    "            opt.zero_grad()\n",
    "            if scheduler is not None:\n",
    "                scheduler.step()\n",
    "\n",
    "        if (index + 1) % delta == 0 or (index + 1) == len(graphs):\n",
    "            losses_mean.append(np.mean(losses[-delta:]))\n",
    "            aucs_mean.append(np.mean(aucs[-delta:]))\n",
    "            \n",
    "            writer.add_scalar('loss', losses_mean[-1], index)\n",
    "            writer.add_scalar('auc', aucs_mean[-1], index)\n",
    "            writer.flush()\n",
    "            \n",
    "            torch.save(model.state_dict(), path_to_save) \n",
    "            \n",
    "            clear_output()\n",
    "            \n",
    "            plt.figure(figsize=(8, 4))\n",
    "            plt.plot(losses_mean)\n",
    "            plt.title('last loss: ' + str(losses_mean[-1]))\n",
    "            plt.xlabel('loss')\n",
    "            plt.grid()\n",
    "            plt.show()\n",
    "            \n",
    "            plt.figure(figsize=(8, 4))\n",
    "            plt.plot(aucs_mean)\n",
    "            plt.title('last auc: ' + str(aucs_mean[-1]))\n",
    "            plt.xlabel('auc')\n",
    "            plt.grid()\n",
    "            plt.show()\n",
    "\n",
    "    losses, aucs = np.asarray(losses), np.asarray(aucs)\n",
    "    return losses, aucs"
   ]
  },
  {
   "cell_type": "markdown",
   "id": "79e6ca2b",
   "metadata": {},
   "source": [
    "## Args"
   ]
  },
  {
   "cell_type": "code",
   "execution_count": 13,
   "id": "2db5d689",
   "metadata": {},
   "outputs": [],
   "source": [
    "exp_name = 'test'\n",
    "device = torch.device('cuda:0')\n",
    "\n",
    "aggregate, delta, num_workers = 128, 1024, 8\n",
    "num_epochs, lr, gamma = 1, 1e-4, 0.9997\n",
    "\n",
    "model_width, model_depth = 128, 16"
   ]
  },
  {
   "cell_type": "markdown",
   "id": "92c0d57e",
   "metadata": {},
   "source": [
    "## Launch"
   ]
  },
  {
   "cell_type": "code",
   "execution_count": 14,
   "id": "7320aa4f",
   "metadata": {},
   "outputs": [
    {
     "data": {
      "image/png": "[encoded data removed]",
      "text/plain": [
       "<Figure size 576x288 with 1 Axes>"
      ]
     },
     "metadata": {
      "needs_background": "light"
     },
     "output_type": "display_data"
    },
    {
     "data": {
      "image/png": "[encoded data removed]",
      "text/plain": [
       "<Figure size 576x288 with 1 Axes>"
      ]
     },
     "metadata": {
      "needs_background": "light"
     },
     "output_type": "display_data"
    },
    {
     "name": "stderr",
     "output_type": "stream",
     "text": [
      "2 epoch: 100%|████████████████████████████████████████████████████████████████████████████████████████████████████████████████████████████████████████████████████████████████████████████████████████████████████████████████████████████| 4043/4043 [03:03<00:00, 22.09it/s]\n"
     ]
    }
   ],
   "source": [
    "model = torch_geometric.nn.VGAE(VariationalGCNEncoder(len(dictionary), model_width, model_depth))\n",
    "model = model.to(device)\n",
    "opt = torch.optim.Adam(model.parameters(), lr=lr)\n",
    "scheduler = torch.optim.lr_scheduler.ExponentialLR(opt, gamma=gamma)\n",
    "\n",
    "writer = SummaryWriter(log_dir=os.path.join('./logs', exp_name))\n",
    "path_to_save = os.path.join('./ckpt', exp_name + '.pth')\n",
    "os.makedirs('./ckpt', exist_ok=True)\n",
    "\n",
    "for epoch in range(num_epochs):\n",
    "    losses, aucs = iterate_loader(model, opt, scheduler, graphs, epoch + 1,\n",
    "                                  writer, path_to_save,\n",
    "                                  aggregate=aggregate, delta=delta, device=device)\n",
    "writer.close()"
   ]
  },
  {
   "cell_type": "code",
   "execution_count": null,
   "id": "cf44b6f9",
   "metadata": {},
   "outputs": [],
   "source": []
  }
 ],
 "metadata": {
  "kernelspec": {
   "display_name": "Python 3 (ipykernel)",
   "language": "python",
   "name": "python3"
  },
  "language_info": {
   "codemirror_mode": {
    "name": "ipython",
    "version": 3
   },
   "file_extension": ".py",
   "mimetype": "text/x-python",
   "name": "python",
   "nbconvert_exporter": "python",
   "pygments_lexer": "ipython3",
   "version": "3.9.9"
  }
 },
 "nbformat": 4,
 "nbformat_minor": 5
}
