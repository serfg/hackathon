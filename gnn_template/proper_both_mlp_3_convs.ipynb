{
 "cells": [
  {
   "cell_type": "markdown",
   "id": "8438a671",
   "metadata": {},
   "source": [
    "Graph construction with https://pytorch-geometric.readthedocs.io/en/latest/_modules/torch_geometric/datasets/molecule_net.html\n",
    "as a template\n",
    "\n",
    "Simplest GNN few changes to the one from here https://pytorch-geometric.readthedocs.io/en/latest/notes/introduction.html\n",
    "as a template"
   ]
  },
  {
   "cell_type": "code",
   "execution_count": null,
   "id": "648a4bfa",
   "metadata": {},
   "outputs": [],
   "source": [
    "import csv\n",
    "import numpy as np\n",
    "from pysmiles import read_smiles\n",
    "import networkx as nx\n",
    "from matplotlib import pyplot as plt\n",
    "import warnings\n",
    "from tqdm import tqdm\n",
    "from torch_geometric.utils.convert import from_networkx\n",
    "from rdkit import Chem\n",
    "from pandas import read_csv\n",
    "from rdkit import Chem\n",
    "import torch\n",
    "import torch_geometric\n",
    "from torch_geometric.data import Data\n",
    "from torch_geometric.loader import DataLoader\n",
    "warnings.filterwarnings(\"ignore\")"
   ]
  },
  {
   "cell_type": "code",
   "execution_count": null,
   "id": "a31d53cd",
   "metadata": {},
   "outputs": [],
   "source": [
    "train_data = read_csv('data_good/train.csv')\n",
    "test_data = read_csv('data_good/test.csv')"
   ]
  },
  {
   "cell_type": "code",
   "execution_count": null,
   "id": "be0b3c57",
   "metadata": {},
   "outputs": [],
   "source": [
    "train_data['Smiles'][0]"
   ]
  },
  {
   "cell_type": "code",
   "execution_count": null,
   "id": "d050e01b",
   "metadata": {},
   "outputs": [],
   "source": [
    "molecules = [Chem.MolFromSmiles(smile) for smile in tqdm(train_data['Smiles'])]\n",
    "train_data['molecules'] = molecules\n",
    "\n",
    "molecules = [Chem.MolFromSmiles(smile) for smile in tqdm(test_data['Smiles'])]\n",
    "test_data['molecules'] = molecules"
   ]
  },
  {
   "cell_type": "code",
   "execution_count": null,
   "id": "d1d8ca50",
   "metadata": {},
   "outputs": [],
   "source": [
    "def get_single_raw_node_features(atom):\n",
    "    now = []\n",
    "    now.append(atom.GetAtomicNum())\n",
    "    now.append(atom.GetChiralTag())\n",
    "    now.append(atom.GetTotalDegree())\n",
    "    now.append(atom.GetFormalCharge())\n",
    "    now.append(atom.GetTotalNumHs())\n",
    "    now.append(atom.GetNumRadicalElectrons())\n",
    "    now.append(atom.GetHybridization())\n",
    "    now.append(atom.GetIsAromatic())\n",
    "    now.append(atom.IsInRing())\n",
    "    return now\n",
    "\n",
    "def get_raw_node_features(mol):\n",
    "    features = []\n",
    "    for atom in mol.GetAtoms():\n",
    "        features.append(get_single_raw_node_features(atom))\n",
    "    return features\n",
    "\n",
    "def get_single_raw_bond_features(bond):\n",
    "    now = []\n",
    "    now.append(str(bond.GetBondType()))\n",
    "    now.append(str(bond.GetStereo()))\n",
    "    now.append(bond.GetIsConjugated())\n",
    "    return now\n",
    "\n",
    "def get_raw_bond_features(mol):\n",
    "    features = []\n",
    "    for bond in mol.GetBonds():\n",
    "        features.append(get_single_raw_bond_features(bond))\n",
    "    return features"
   ]
  },
  {
   "cell_type": "code",
   "execution_count": null,
   "id": "18ba462d",
   "metadata": {},
   "outputs": [],
   "source": [
    "class Encoder():\n",
    "    def __init__(self, features, print_unique = True):\n",
    "        reshaped = [[el] for el in features[0]]\n",
    "        for i in range(1, len(features)):\n",
    "            for j in range(len(reshaped)):\n",
    "                reshaped[j].append(features[i][j])\n",
    "        self.unique = [list(np.unique(values)) for values in reshaped]\n",
    "        if (print_unique):\n",
    "            for i in range(len(self.unique)):\n",
    "                print(i, self.unique[i])\n",
    "                \n",
    "                \n",
    "    def transform(self, features, show_progress = True):\n",
    "        result = []\n",
    "        for vector in tqdm(features, disable = not show_progress):\n",
    "            now = []\n",
    "            for i in range(len(vector)):\n",
    "                current = np.zeros(len(self.unique[i]))\n",
    "                current[self.unique[i].index(vector[i])] = 1.0\n",
    "                now.append(current)\n",
    "            now = np.concatenate(now, axis = 0)\n",
    "            result.append(now)\n",
    "        return np.array(result)"
   ]
  },
  {
   "cell_type": "code",
   "execution_count": null,
   "id": "fd38cb10",
   "metadata": {},
   "outputs": [],
   "source": [
    "train_raw_bond_features = []\n",
    "for mol in train_data['molecules']:\n",
    "    train_raw_bond_features = train_raw_bond_features + get_raw_bond_features(mol)\n",
    "\n",
    "bond_encoder = Encoder(train_raw_bond_features)\n",
    "\n",
    "train_bond_features = bond_encoder.transform(train_raw_bond_features)\n",
    "print(train_bond_features.shape)"
   ]
  },
  {
   "cell_type": "code",
   "execution_count": null,
   "id": "caf84f69",
   "metadata": {},
   "outputs": [],
   "source": [
    "train_raw_node_features = []\n",
    "for mol in train_data['molecules']:\n",
    "    train_raw_node_features = train_raw_node_features + get_raw_node_features(mol)\n",
    "    \n",
    "node_encoder = Encoder(train_raw_node_features)\n",
    "\n",
    "train_node_features = node_encoder.transform(train_raw_node_features)\n",
    "print(train_node_features.shape)\n",
    "\n",
    "\n"
   ]
  },
  {
   "cell_type": "code",
   "execution_count": null,
   "id": "ab9826d4",
   "metadata": {},
   "outputs": [],
   "source": [
    "def mol_2_pytorch_geometric(mol, node_encoder, bond_encoder):\n",
    "    node_features = node_encoder.transform(get_raw_node_features(mol), show_progress = False)\n",
    "    #print(\"node features: \", node_features.shape)\n",
    "    \n",
    "    edge_indices, edge_attrs = [], []\n",
    "    \n",
    "    num_bond_features = None\n",
    "    for bond in mol.GetBonds():\n",
    "        i = bond.GetBeginAtomIdx()\n",
    "        j = bond.GetEndAtomIdx()\n",
    "\n",
    "        bond_features = bond_encoder.transform([get_single_raw_bond_features(bond)], show_progress = False)\n",
    "        num_bond_features = len(bond_features[0])\n",
    "        #print(\"bond features: \", bond_features[0].shape)\n",
    "        edge_indices += [[i, j], [j, i]]\n",
    "        edge_attrs += [bond_features[0], bond_features[0]]\n",
    "    \n",
    "    if len(edge_attrs) > 0:\n",
    "        \n",
    "   \n",
    "        edge_index = torch.tensor(edge_indices)\n",
    "        edge_index = edge_index.t().to(torch.long).view(2, -1)\n",
    "        edge_attrs = torch.tensor(edge_attrs, dtype=torch.long).view(-1, num_bond_features)\n",
    "        ''' print(edge_attrs.shape)\n",
    "        print(edge_index.shape)\n",
    "        print(node_features.shape)\n",
    "        print(edge_index)'''\n",
    "        # Sort indices.\n",
    "  \n",
    "        perm = (edge_index[0] * node_features.shape[0] + edge_index[1]).argsort()\n",
    "        #print(\"perm: \", perm.shape)\n",
    "        #print(edge_index[0] * node_features.shape[0] + edge_index[1])\n",
    "        edge_index, edge_attrs = edge_index[:, perm], edge_attrs[perm]\n",
    "        data = Data(x=torch.FloatTensor(node_features), edge_index=edge_index, edge_attr=edge_attrs, empty = False)\n",
    "    else:\n",
    "        data = Data(x = torch.FloatTensor(node_features), empty = True)\n",
    "    #print(edge_index.shape)\n",
    "    #print(edge_attrs.shape)\n",
    "    \n",
    "    return data"
   ]
  },
  {
   "cell_type": "code",
   "execution_count": null,
   "id": "7864c713",
   "metadata": {},
   "outputs": [],
   "source": [
    "first = mol_2_pytorch_geometric(train_data['molecules'][0], node_encoder, bond_encoder)"
   ]
  },
  {
   "cell_type": "code",
   "execution_count": null,
   "id": "f574c3cc",
   "metadata": {},
   "outputs": [],
   "source": [
    "train_data['graphs'] = [mol_2_pytorch_geometric(molecule, node_encoder, bond_encoder) \n",
    "                        for molecule in tqdm(train_data['molecules'])]\n",
    "\n",
    "test_data['graphs'] = [mol_2_pytorch_geometric(molecule, node_encoder, bond_encoder)\n",
    "                       for molecule in tqdm(test_data['molecules'])]"
   ]
  },
  {
   "cell_type": "code",
   "execution_count": null,
   "id": "f114cb42",
   "metadata": {},
   "outputs": [],
   "source": [
    "positive_indices = np.arange(len(train_data))[np.array(train_data['Active'])]\n",
    "negative_indices = np.arange(len(train_data))[np.array(train_data['Active']) == False]\n",
    "\n",
    "np.random.seed(0)\n",
    "np.random.shuffle(positive_indices)\n",
    "np.random.shuffle(negative_indices)\n",
    "print(positive_indices.shape)\n",
    "print(negative_indices.shape)"
   ]
  },
  {
   "cell_type": "code",
   "execution_count": null,
   "id": "638741bc",
   "metadata": {},
   "outputs": [],
   "source": [
    "TRAIN_PERCENTAGE = 0.66\n",
    "num_train_positive = int(positive_indices.shape[0] * TRAIN_PERCENTAGE)\n",
    "print(num_train_positive)\n",
    "train_positive = positive_indices[:num_train_positive]\n",
    "val_positive = positive_indices[num_train_positive:]\n",
    "\n",
    "num_train_negative = int(negative_indices.shape[0] * TRAIN_PERCENTAGE)\n",
    "print(num_train_negative)\n",
    "train_negative = negative_indices[:num_train_negative]\n",
    "val_negative = negative_indices[num_train_negative:]"
   ]
  },
  {
   "cell_type": "code",
   "execution_count": null,
   "id": "e613cf53",
   "metadata": {},
   "outputs": [],
   "source": [
    "train_indices = np.concatenate([train_positive, train_negative], axis = 0)\n",
    "val_indices = np.concatenate([val_positive, val_negative], axis = 0)\n"
   ]
  },
  {
   "cell_type": "code",
   "execution_count": null,
   "id": "1cb3d48c",
   "metadata": {},
   "outputs": [],
   "source": [
    "val_graphs = [train_data['graphs'].to_list()[index] for index in val_indices]\n",
    "val_labels = train_data['Active'].to_numpy()[val_indices]\n",
    "\n",
    "train_graphs = [train_data['graphs'].to_list()[index] for index in train_indices]\n",
    "train_labels = train_data['Active'].to_numpy()[train_indices]\n",
    "\n",
    "print(train_labels)\n",
    "for i in range(len(train_graphs)):\n",
    "    train_graphs[i].y = int(train_labels[i])\n",
    "for i in range(len(val_graphs)):\n",
    "    val_graphs[i].y = int(val_labels[i])\n",
    "\n",
    "    \n",
    "train_graphs = [graph for graph in train_graphs if not graph.empty]\n",
    "val_graphs = [graph for graph in val_graphs if not graph.empty]"
   ]
  },
  {
   "cell_type": "code",
   "execution_count": null,
   "id": "d72afe44",
   "metadata": {},
   "outputs": [],
   "source": [
    "print(len(val_graphs))\n",
    "print(len(train_graphs))"
   ]
  },
  {
   "cell_type": "code",
   "execution_count": null,
   "id": "ec315299",
   "metadata": {},
   "outputs": [],
   "source": [
    "from torch_geometric.nn import GCNConv\n",
    "import torch.nn.functional as F\n",
    "from torch_geometric.nn import global_max_pool\n",
    "from torch import nn\n",
    "\n",
    "class GCN(torch.nn.Module):\n",
    "    def __init__(self, num_node_features):\n",
    "        super().__init__()\n",
    "        self.conv1 = GCNConv(num_node_features, 128)\n",
    "        self.conv2 = GCNConv(128, 128)\n",
    "        self.conv3 = GCNConv(128, 128)\n",
    "        self.mlp_first = nn.Sequential(nn.Linear(128, 128), nn.BatchNorm1d(128), nn.ReLU(), nn.Linear(128, 128))\n",
    "        self.mlp = nn.Sequential(nn.Linear(128, 128), nn.BatchNorm1d(128), nn.ReLU(), nn.Linear(128, 2))\n",
    "        \n",
    "    def forward(self, data):\n",
    "        x, edge_index = data.x, data.edge_index\n",
    "\n",
    "        x = self.conv1(x, edge_index)\n",
    "        x = F.relu(x)\n",
    "        x = F.dropout(x, p = 0.1, training=self.training)\n",
    "        x = self.conv2(x, edge_index)\n",
    "        x = F.relu(x)\n",
    "        x = F.dropout(x, p = 0.1, training=self.training)\n",
    "        x = self.conv3(x, edge_index)\n",
    "        x = self.mlp_first(x)\n",
    "        x = global_max_pool(x, batch=data.batch)\n",
    "        x = self.mlp(x)\n",
    "        x = F.log_softmax(x)\n",
    "        return x\n"
   ]
  },
  {
   "cell_type": "code",
   "execution_count": null,
   "id": "c3d53e6f",
   "metadata": {},
   "outputs": [],
   "source": [
    "BATCH_SIZE = 128\n",
    "train_loader = DataLoader(train_graphs, batch_size=BATCH_SIZE, shuffle=True)\n",
    "val_loader = DataLoader(val_graphs, batch_size = BATCH_SIZE, shuffle = False)"
   ]
  },
  {
   "cell_type": "code",
   "execution_count": null,
   "id": "bcb19b3e",
   "metadata": {},
   "outputs": [],
   "source": [
    "from sklearn.metrics import f1_score\n",
    "\n",
    "device = torch.device('cuda' if torch.cuda.is_available() else 'cpu')\n",
    "model = GCN(54).to(device)\n",
    "optimizer = torch.optim.Adam(model.parameters())\n",
    "lr_scheduler = torch.optim.lr_scheduler.ReduceLROnPlateau(optimizer, factor = 0.5, patience = 1000)\n",
    "\n",
    "NUM_EPOCHS = 100000\n",
    "for epoch in range(NUM_EPOCHS):\n",
    "    model.train(True)\n",
    "    for data in train_loader:\n",
    "        data.to(device)\n",
    "        optimizer.zero_grad()\n",
    "        outputs = model(data)\n",
    "        #print(outputs)\n",
    "        #print(data.y)\n",
    "        loss = F.nll_loss(outputs, data.y)\n",
    "        #loss = torch.sum(outputs[:, 0])\n",
    "        loss.backward()\n",
    "        optimizer.step()\n",
    "\n",
    "\n",
    "    model.train(False)\n",
    "\n",
    "    all_outputs = []\n",
    "    all_targets = []\n",
    "\n",
    "    for data in val_loader:\n",
    "        data.to(device)\n",
    "        outputs = model(data)\n",
    "        all_outputs.append(outputs.data.cpu().numpy())\n",
    "        all_targets.append(data.y.cpu().numpy())\n",
    "    all_outputs = np.concatenate(all_outputs, axis = 0)\n",
    "    all_targets = np.concatenate(all_targets, axis = 0)\n",
    "\n",
    "    values = []\n",
    "    for threshold in np.linspace(np.min(all_outputs), np.max(all_outputs), 1000):\n",
    "        predictions = all_outputs[:, 1] > threshold\n",
    "        now = f1_score(all_targets, predictions)\n",
    "        values.append(now)\n",
    "    \n",
    "    lr_scheduler.step(np.max(values))\n",
    "    \n",
    "    if epoch % 5 == 0:\n",
    "        print(epoch, np.max(values), optimizer.param_groups[0]['lr'])\n",
    "        \n",
    "   \n"
   ]
  },
  {
   "cell_type": "code",
   "execution_count": null,
   "id": "c78b7606",
   "metadata": {},
   "outputs": [],
   "source": [
    "model.train(False)\n",
    "\n",
    "all_outputs = []\n",
    "all_targets = []\n",
    "\n",
    "for data in val_loader:\n",
    "    data.to(device)\n",
    "    outputs = model(data)\n",
    "    all_outputs.append(outputs.data.cpu().numpy())\n",
    "    all_targets.append(data.y.cpu().numpy())\n",
    "all_outputs = np.concatenate(all_outputs, axis = 0)\n",
    "all_targets = np.concatenate(all_targets, axis = 0)\n",
    "\n",
    "values = []\n",
    "grid = np.linspace(np.min(all_outputs), np.max(all_outputs), 1000)\n",
    "for threshold in grid:\n",
    "    predictions = all_outputs[:, 1] > threshold\n",
    "    now = f1_score(all_targets, predictions)\n",
    "    values.append(now)\n",
    "    \n",
    "plt.plot(grid, values)"
   ]
  },
  {
   "cell_type": "code",
   "execution_count": null,
   "id": "e6ac7a2e",
   "metadata": {},
   "outputs": [],
   "source": [
    "mask = np.logical_and(grid > -20, grid < -1)\n",
    "values = np.array(values)\n",
    "plt.plot(grid[mask], values[mask])"
   ]
  },
  {
   "cell_type": "code",
   "execution_count": null,
   "id": "f2c1004d",
   "metadata": {},
   "outputs": [],
   "source": [
    "import pandas"
   ]
  },
  {
   "cell_type": "code",
   "execution_count": null,
   "id": "3b4d96fc",
   "metadata": {},
   "outputs": [],
   "source": [
    "threshold = -8"
   ]
  },
  {
   "cell_type": "code",
   "execution_count": null,
   "id": "09d86538",
   "metadata": {},
   "outputs": [],
   "source": [
    "test_graphs = test_data['graphs'].to_list()"
   ]
  },
  {
   "cell_type": "code",
   "execution_count": null,
   "id": "6df46d3f",
   "metadata": {},
   "outputs": [],
   "source": [
    "test_loader = DataLoader(test_graphs, batch_size = BATCH_SIZE, shuffle = False)"
   ]
  },
  {
   "cell_type": "code",
   "execution_count": null,
   "id": "0a9c377d",
   "metadata": {},
   "outputs": [],
   "source": [
    "all_outputs = []\n",
    "\n",
    "for data in test_loader:\n",
    "    data.to(device)\n",
    "    outputs = model(data)\n",
    "    all_outputs.append(outputs.data.cpu().numpy())\n",
    "all_outputs = np.concatenate(all_outputs, axis = 0)\n",
    "\n",
    "test_predictions = all_outputs[:, 1] > threshold"
   ]
  },
  {
   "cell_type": "code",
   "execution_count": null,
   "id": "f4718c4d",
   "metadata": {},
   "outputs": [],
   "source": [
    "proper = pandas.DataFrame({\"Active\" : test_predictions})\n",
    "proper"
   ]
  },
  {
   "cell_type": "code",
   "execution_count": null,
   "id": "7b3b4a92",
   "metadata": {},
   "outputs": [],
   "source": [
    "proper.to_csv('submission_simplest_gnn.csv')"
   ]
  },
  {
   "cell_type": "code",
   "execution_count": null,
   "id": "2b4d7017",
   "metadata": {},
   "outputs": [],
   "source": []
  }
 ],
 "metadata": {
  "kernelspec": {
   "display_name": "Python 3",
   "language": "python",
   "name": "python3"
  },
  "language_info": {
   "codemirror_mode": {
    "name": "ipython",
    "version": 3
   },
   "file_extension": ".py",
   "mimetype": "text/x-python",
   "name": "python",
   "nbconvert_exporter": "python",
   "pygments_lexer": "ipython3",
   "version": "3.9.5"
  }
 },
 "nbformat": 4,
 "nbformat_minor": 5
}
