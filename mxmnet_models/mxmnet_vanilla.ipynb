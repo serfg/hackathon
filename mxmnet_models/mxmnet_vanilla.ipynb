{
 "cells": [
  {
   "cell_type": "code",
   "execution_count": 1,
   "id": "0156a34e",
   "metadata": {},
   "outputs": [],
   "source": [
    "import csv\n",
    "import numpy as np\n",
    "from pysmiles import read_smiles\n",
    "import networkx as nx\n",
    "from matplotlib import pyplot as plt\n",
    "import warnings\n",
    "from tqdm import tqdm\n",
    "from torch_geometric.utils.convert import from_networkx\n",
    "from rdkit import Chem\n",
    "from pandas import read_csv\n",
    "from rdkit import Chem\n",
    "import torch\n",
    "import torch_geometric\n",
    "from torch_geometric.data import Data\n",
    "from torch_geometric.loader import DataLoader\n",
    "from rdkit.Chem import AllChem\n",
    "from rdkit.Chem import PyMol\n",
    "warnings.filterwarnings(\"ignore\")\n",
    "import torch.nn.functional as F"
   ]
  },
  {
   "cell_type": "code",
   "execution_count": 2,
   "id": "2443c967",
   "metadata": {},
   "outputs": [],
   "source": [
    "train_data = read_csv('data_good/train.csv')\n",
    "test_data = read_csv('data_good/test.csv')"
   ]
  },
  {
   "cell_type": "code",
   "execution_count": 3,
   "id": "80093061",
   "metadata": {},
   "outputs": [
    {
     "name": "stderr",
     "output_type": "stream",
     "text": [
      "100%|██████████| 5557/5557 [00:00<00:00, 8513.39it/s]\n",
      "  0%|          | 10/5557 [00:00<03:09, 29.34it/s]RDKit ERROR: [22:37:20] UFFTYPER: Unrecognized atom type: Ca (0)\n",
      "  1%|          | 42/5557 [00:02<10:11,  9.01it/s]RDKit ERROR: [22:37:23] UFFTYPER: Unrecognized charge state for atom: 5\n",
      "  2%|▏         | 84/5557 [00:10<19:10,  4.76it/s]"
     ]
    },
    {
     "name": "stdout",
     "output_type": "stream",
     "text": [
      "bad\n"
     ]
    },
    {
     "name": "stderr",
     "output_type": "stream",
     "text": [
      "  2%|▏         | 93/5557 [00:11<09:03, 10.06it/s]RDKit ERROR: [22:37:31] UFFTYPER: Unrecognized charge state for atom: 4\n",
      "  4%|▎         | 195/5557 [00:26<06:48, 13.13it/s]RDKit ERROR: [22:37:47] UFFTYPER: Unrecognized atom type: Zn1+2 (13)\n",
      "  5%|▌         | 290/5557 [00:34<07:18, 12.00it/s]RDKit ERROR: [22:37:55] UFFTYPER: Unrecognized atom type: S_6+6 (9)\n",
      "  5%|▌         | 297/5557 [00:34<05:56, 14.75it/s]RDKit ERROR: [22:37:55] UFFTYPER: Unrecognized charge state for atom: 4\n",
      "  6%|▌         | 308/5557 [00:35<03:39, 23.90it/s]RDKit ERROR: [22:37:55] UFFTYPER: Unrecognized charge state for atom: 0\n",
      "RDKit ERROR: [22:37:55] UFFTYPER: Unrecognized atom type: Zn+2 (0)\n",
      " 10%|█         | 582/5557 [00:57<13:43,  6.04it/s]"
     ]
    },
    {
     "name": "stdout",
     "output_type": "stream",
     "text": [
      "bad\n"
     ]
    },
    {
     "name": "stderr",
     "output_type": "stream",
     "text": [
      " 11%|█         | 600/5557 [00:58<08:57,  9.23it/s]"
     ]
    },
    {
     "name": "stdout",
     "output_type": "stream",
     "text": [
      "bad\n"
     ]
    },
    {
     "name": "stderr",
     "output_type": "stream",
     "text": [
      " 11%|█         | 608/5557 [00:59<08:37,  9.57it/s]RDKit ERROR: [22:38:20] UFFTYPER: Unrecognized atom type: Ca (0)\n",
      " 13%|█▎        | 739/5557 [01:11<06:26, 12.48it/s]RDKit ERROR: [22:38:31] UFFTYPER: Unrecognized charge state for atom: 2\n",
      " 15%|█▌        | 847/5557 [01:17<05:29, 14.29it/s]RDKit ERROR: [22:38:38] UFFTYPER: Unrecognized atom type: Ca (0)\n",
      " 16%|█▋        | 911/5557 [01:21<05:17, 14.62it/s]"
     ]
    },
    {
     "name": "stdout",
     "output_type": "stream",
     "text": [
      "bad\n"
     ]
    },
    {
     "name": "stderr",
     "output_type": "stream",
     "text": [
      "RDKit ERROR: [22:38:42] UFFTYPER: Unrecognized charge state for atom: 1\n",
      " 16%|█▋        | 915/5557 [01:22<04:45, 16.25it/s]RDKit ERROR: [22:38:42] UFFTYPER: Unrecognized charge state for atom: 7\n",
      " 17%|█▋        | 953/5557 [01:24<05:21, 14.33it/s]RDKit ERROR: [22:38:44] UFFTYPER: Unrecognized charge state for atom: 27\n",
      " 19%|█▊        | 1038/5557 [01:31<04:08, 18.17it/s]RDKit ERROR: [22:38:51] UFFTYPER: Unrecognized charge state for atom: 16\n",
      " 20%|██        | 1120/5557 [01:46<1:07:28,  1.10it/s]"
     ]
    },
    {
     "name": "stdout",
     "output_type": "stream",
     "text": [
      "bad\n"
     ]
    },
    {
     "name": "stderr",
     "output_type": "stream",
     "text": [
      " 20%|██        | 1133/5557 [01:47<15:32,  4.74it/s]  RDKit ERROR: [22:39:07] UFFTYPER: Unrecognized charge state for atom: 3\n",
      " 21%|██        | 1171/5557 [01:50<06:18, 11.59it/s]RDKit WARNING: [22:39:11] UFFTYPER: Warning: hybridization set to SP3 for atom 1\n",
      "RDKit WARNING: [22:39:11] UFFTYPER: Warning: hybridization set to SP3 for atom 1\n",
      "RDKit WARNING: [22:39:11] UFFTYPER: Warning: hybridization set to SP3 for atom 1\n",
      "RDKit WARNING: [22:39:11] UFFTYPER: Warning: hybridization set to SP3 for atom 1\n",
      "RDKit WARNING: [22:39:11] UFFTYPER: Warning: hybridization set to SP3 for atom 1\n",
      "RDKit WARNING: [22:39:11] UFFTYPER: Warning: hybridization set to SP3 for atom 1\n",
      "RDKit WARNING: [22:39:11] UFFTYPER: Warning: hybridization set to SP3 for atom 1\n",
      " 23%|██▎       | 1266/5557 [02:01<07:15,  9.85it/s]"
     ]
    },
    {
     "name": "stdout",
     "output_type": "stream",
     "text": [
      "bad\n"
     ]
    },
    {
     "name": "stderr",
     "output_type": "stream",
     "text": [
      " 25%|██▍       | 1372/5557 [02:07<03:40, 19.01it/s]RDKit ERROR: [22:39:28] UFFTYPER: Unrecognized charge state for atom: 20\n",
      " 26%|██▌       | 1420/5557 [02:11<04:21, 15.83it/s]RDKit ERROR: [22:39:32] UFFTYPER: Unrecognized charge state for atom: 3\n",
      " 27%|██▋       | 1484/5557 [02:15<03:08, 21.57it/s]RDKit ERROR: [22:39:37] UFFTYPER: Unrecognized atom type: Ca (0)\n",
      " 31%|███       | 1736/5557 [02:39<07:08,  8.92it/s]RDKit ERROR: [22:39:59] UFFTYPER: Unrecognized charge state for atom: 4\n",
      " 33%|███▎      | 1811/5557 [02:44<05:22, 11.61it/s]RDKit ERROR: [22:40:05] UFFTYPER: Unrecognized charge state for atom: 1\n",
      " 33%|███▎      | 1819/5557 [02:48<28:36,  2.18it/s]"
     ]
    },
    {
     "name": "stdout",
     "output_type": "stream",
     "text": [
      "bad\n"
     ]
    },
    {
     "name": "stderr",
     "output_type": "stream",
     "text": [
      " 33%|███▎      | 1842/5557 [02:50<05:36, 11.03it/s]"
     ]
    },
    {
     "name": "stdout",
     "output_type": "stream",
     "text": [
      "bad\n"
     ]
    },
    {
     "name": "stderr",
     "output_type": "stream",
     "text": [
      " 33%|███▎      | 1844/5557 [02:51<06:30,  9.52it/s]RDKit ERROR: [22:40:11] UFFTYPER: Unrecognized charge state for atom: 17\n",
      " 35%|███▍      | 1938/5557 [03:02<05:13, 11.56it/s]RDKit ERROR: [22:40:22] UFFTYPER: Unrecognized atom type: Ca (0)\n",
      " 35%|███▌      | 1969/5557 [03:06<09:03,  6.61it/s]RDKit ERROR: [22:40:26] UFFTYPER: Unrecognized charge state for atom: 8\n",
      " 37%|███▋      | 2044/5557 [03:14<03:55, 14.91it/s]RDKit ERROR: [22:40:35] UFFTYPER: Unrecognized charge state for atom: 20\n",
      " 40%|████      | 2249/5557 [03:29<03:37, 15.24it/s]"
     ]
    },
    {
     "name": "stdout",
     "output_type": "stream",
     "text": [
      "bad\n"
     ]
    },
    {
     "name": "stderr",
     "output_type": "stream",
     "text": [
      " 45%|████▌     | 2526/5557 [04:00<36:31,  1.38it/s]"
     ]
    },
    {
     "name": "stdout",
     "output_type": "stream",
     "text": [
      "bad\n"
     ]
    },
    {
     "name": "stderr",
     "output_type": "stream",
     "text": [
      " 47%|████▋     | 2595/5557 [04:06<02:36, 18.87it/s]RDKit ERROR: [22:41:27] UFFTYPER: Unrecognized charge state for atom: 54\n",
      " 47%|████▋     | 2598/5557 [04:07<04:08, 11.89it/s]"
     ]
    },
    {
     "name": "stdout",
     "output_type": "stream",
     "text": [
      "bad\n"
     ]
    },
    {
     "name": "stderr",
     "output_type": "stream",
     "text": [
      " 47%|████▋     | 2607/5557 [04:07<03:57, 12.43it/s]RDKit ERROR: [22:41:28] UFFTYPER: Unrecognized charge state for atom: 0\n",
      "RDKit ERROR: [22:41:28] UFFTYPER: Unrecognized atom type: Zn+2 (0)\n",
      " 48%|████▊     | 2642/5557 [04:11<06:07,  7.93it/s]RDKit ERROR: [22:41:32] UFFTYPER: Unrecognized charge state for atom: 23\n",
      " 48%|████▊     | 2648/5557 [04:19<26:37,  1.82it/s]"
     ]
    },
    {
     "name": "stdout",
     "output_type": "stream",
     "text": [
      "bad\n"
     ]
    },
    {
     "name": "stderr",
     "output_type": "stream",
     "text": [
      " 48%|████▊     | 2688/5557 [04:25<04:44, 10.09it/s]RDKit ERROR: [22:41:45] UFFTYPER: Unrecognized charge state for atom: 1\n",
      " 49%|████▉     | 2717/5557 [04:27<02:42, 17.43it/s]RDKit ERROR: [22:41:48] UFFTYPER: Unrecognized charge state for atom: 4\n",
      " 49%|████▉     | 2721/5557 [04:29<09:58,  4.74it/s]RDKit ERROR: [22:41:49] UFFTYPER: Unrecognized atom type: Sr (0)\n",
      "RDKit ERROR: [22:41:49] UFFTYPER: Unrecognized atom type: Sr (0)\n",
      " 52%|█████▏    | 2866/5557 [04:39<03:51, 11.62it/s]"
     ]
    },
    {
     "name": "stdout",
     "output_type": "stream",
     "text": [
      "bad\n"
     ]
    },
    {
     "name": "stderr",
     "output_type": "stream",
     "text": [
      " 54%|█████▍    | 3018/5557 [04:53<06:28,  6.54it/s]RDKit ERROR: [22:42:13] UFFTYPER: Unrecognized charge state for atom: 14\n",
      " 55%|█████▌    | 3066/5557 [05:00<04:57,  8.36it/s]"
     ]
    },
    {
     "name": "stdout",
     "output_type": "stream",
     "text": [
      "bad\n"
     ]
    },
    {
     "name": "stderr",
     "output_type": "stream",
     "text": [
      " 57%|█████▋    | 3145/5557 [05:17<55:01,  1.37s/it]"
     ]
    },
    {
     "name": "stdout",
     "output_type": "stream",
     "text": [
      "bad\n"
     ]
    },
    {
     "name": "stderr",
     "output_type": "stream",
     "text": [
      " 57%|█████▋    | 3187/5557 [05:21<03:59,  9.89it/s]RDKit ERROR: [22:42:42] UFFTYPER: Unrecognized atom type: Ca (0)\n",
      " 59%|█████▉    | 3268/5557 [05:29<02:36, 14.60it/s]RDKit ERROR: [22:42:49] UFFTYPER: Unrecognized atom type: Zn1+2 (10)\n",
      " 60%|█████▉    | 3328/5557 [05:35<02:54, 12.80it/s]RDKit ERROR: [22:42:56] UFFTYPER: Unrecognized atom type: Ca (0)\n",
      " 60%|██████    | 3344/5557 [05:43<14:42,  2.51it/s]"
     ]
    },
    {
     "name": "stdout",
     "output_type": "stream",
     "text": [
      "bad\n"
     ]
    },
    {
     "name": "stderr",
     "output_type": "stream",
     "text": [
      " 61%|██████▏   | 3414/5557 [05:50<07:03,  5.06it/s]RDKit ERROR: [22:43:11] UFFTYPER: Unrecognized charge state for atom: 5\n",
      " 62%|██████▏   | 3469/5557 [06:01<07:41,  4.53it/s]"
     ]
    },
    {
     "name": "stdout",
     "output_type": "stream",
     "text": [
      "bad\n"
     ]
    },
    {
     "name": "stderr",
     "output_type": "stream",
     "text": [
      " 66%|██████▌   | 3646/5557 [06:17<02:18, 13.84it/s]RDKit ERROR: [22:43:38] UFFTYPER: Unrecognized charge state for atom: 4\n",
      " 69%|██████▉   | 3828/5557 [06:34<02:25, 11.91it/s]RDKit ERROR: [22:43:54] UFFTYPER: Unrecognized charge state for atom: 39\n",
      " 72%|███████▏  | 4001/5557 [06:54<03:18,  7.85it/s]RDKit ERROR: [22:44:14] UFFTYPER: Unrecognized charge state for atom: 1\n",
      " 74%|███████▍  | 4124/5557 [07:03<01:35, 14.98it/s]RDKit ERROR: [22:44:23] UFFTYPER: Unrecognized charge state for atom: 10\n",
      " 75%|███████▍  | 4154/5557 [07:06<02:14, 10.40it/s]RDKit ERROR: [22:44:26] UFFTYPER: Unrecognized atom type: Ca (0)\n",
      " 76%|███████▌  | 4233/5557 [07:11<01:10, 18.83it/s]RDKit ERROR: [22:44:32] UFFTYPER: Unrecognized atom type: Ag5 (0)\n",
      " 80%|███████▉  | 4421/5557 [07:28<02:56,  6.42it/s]"
     ]
    },
    {
     "name": "stdout",
     "output_type": "stream",
     "text": [
      "bad\n"
     ]
    },
    {
     "name": "stderr",
     "output_type": "stream",
     "text": [
      " 80%|███████▉  | 4423/5557 [07:28<02:50,  6.65it/s]RDKit ERROR: [22:44:49] UFFTYPER: Unrecognized charge state for atom: 8\n",
      " 81%|████████  | 4476/5557 [07:34<01:45, 10.23it/s]RDKit ERROR: [22:44:54] UFFTYPER: Unrecognized charge state for atom: 8\n",
      " 84%|████████▎ | 4653/5557 [07:50<00:56, 15.90it/s]RDKit ERROR: [22:45:10] UFFTYPER: Unrecognized atom type: Se2+2 (8)\n",
      "RDKit ERROR: [22:45:10] UFFTYPER: Unrecognized atom type: Se2+2 (8)\n",
      " 84%|████████▍ | 4692/5557 [07:54<01:09, 12.43it/s]"
     ]
    },
    {
     "name": "stdout",
     "output_type": "stream",
     "text": [
      "bad\n"
     ]
    },
    {
     "name": "stderr",
     "output_type": "stream",
     "text": [
      " 85%|████████▌ | 4735/5557 [07:58<02:36,  5.27it/s]"
     ]
    },
    {
     "name": "stdout",
     "output_type": "stream",
     "text": [
      "bad\n"
     ]
    },
    {
     "name": "stderr",
     "output_type": "stream",
     "text": [
      " 86%|████████▌ | 4780/5557 [08:01<01:30,  8.57it/s]RDKit ERROR: [22:45:21] UFFTYPER: Unrecognized charge state for atom: 5\n",
      " 87%|████████▋ | 4841/5557 [08:07<00:48, 14.72it/s]RDKit ERROR: [22:45:29] UFFTYPER: Unrecognized charge state for atom: 0\n",
      "RDKit ERROR: [22:45:29] UFFTYPER: Unrecognized atom type: Zn+2 (0)\n",
      " 88%|████████▊ | 4902/5557 [08:14<01:08,  9.60it/s]RDKit WARNING: [22:45:35] UFFTYPER: Warning: hybridization set to SP3 for atom 16\n",
      "RDKit WARNING: [22:45:35] UFFTYPER: Warning: hybridization set to SP3 for atom 26\n",
      "RDKit WARNING: [22:45:35] UFFTYPER: Warning: hybridization set to SP3 for atom 35\n",
      "RDKit WARNING: [22:45:35] UFFTYPER: Warning: hybridization set to SP3 for atom 44\n",
      "RDKit WARNING: [22:45:35] UFFTYPER: Warning: hybridization set to SP3 for atom 53\n",
      "RDKit WARNING: [22:45:35] UFFTYPER: Warning: hybridization set to SP3 for atom 62\n",
      "RDKit WARNING: [22:45:35] UFFTYPER: Warning: hybridization set to SP3 for atom 71\n",
      "RDKit WARNING: [22:45:35] UFFTYPER: Warning: hybridization set to SP3 for atom 75\n",
      "RDKit WARNING: [22:45:35] UFFTYPER: Warning: hybridization set to SP3 for atom 1\n",
      "RDKit WARNING: [22:45:35] UFFTYPER: Warning: hybridization set to SP3 for atom 1\n",
      "RDKit WARNING: [22:45:35] UFFTYPER: Warning: hybridization set to SP3 for atom 1\n",
      "RDKit WARNING: [22:45:35] UFFTYPER: Warning: hybridization set to SP3 for atom 1\n",
      "RDKit WARNING: [22:45:35] UFFTYPER: Warning: hybridization set to SP3 for atom 1\n",
      "RDKit WARNING: [22:45:35] UFFTYPER: Warning: hybridization set to SP3 for atom 1\n",
      "RDKit WARNING: [22:45:35] UFFTYPER: Warning: hybridization set to SP3 for atom 1\n",
      "RDKit WARNING: [22:45:35] UFFTYPER: Warning: hybridization set to SP3 for atom 1\n",
      " 92%|█████████▏| 5106/5557 [08:32<01:16,  5.87it/s]"
     ]
    },
    {
     "name": "stdout",
     "output_type": "stream",
     "text": [
      "bad\n"
     ]
    },
    {
     "name": "stderr",
     "output_type": "stream",
     "text": [
      " 92%|█████████▏| 5132/5557 [08:35<00:33, 12.83it/s]RDKit ERROR: [22:45:55] UFFTYPER: Unrecognized charge state for atom: 8\n",
      "RDKit ERROR: [22:45:55] UFFTYPER: Unrecognized charge state for atom: 8\n",
      "RDKit WARNING: [22:45:55] UFFTYPER: Warning: hybridization set to SP3 for atom 0\n",
      "RDKit ERROR: [22:45:55] UFFTYPER: Unrecognized charge state for atom: 0\n",
      " 93%|█████████▎| 5184/5557 [08:41<00:51,  7.23it/s]RDKit ERROR: [22:46:01] UFFTYPER: Unrecognized atom type: Ca (0)\n",
      " 94%|█████████▍| 5211/5557 [08:44<00:26, 13.12it/s]RDKit ERROR: [22:46:04] UFFTYPER: Unrecognized charge state for atom: 18\n",
      " 97%|█████████▋| 5369/5557 [08:56<00:16, 11.29it/s]RDKit ERROR: [22:46:16] UFFTYPER: Unrecognized charge state for atom: 4\n",
      "100%|█████████▉| 5545/5557 [09:32<00:27,  2.33s/it]"
     ]
    },
    {
     "name": "stdout",
     "output_type": "stream",
     "text": [
      "bad\n"
     ]
    },
    {
     "name": "stderr",
     "output_type": "stream",
     "text": [
      "100%|██████████| 5557/5557 [09:33<00:00,  9.69it/s]\n",
      "100%|██████████| 1614/1614 [00:00<00:00, 7971.49it/s]\n",
      "  2%|▏         | 39/1614 [00:06<04:28,  5.87it/s]RDKit ERROR: [22:46:59] UFFTYPER: Unrecognized charge state for atom: 8\n",
      " 19%|█▉        | 305/1614 [00:26<01:00, 21.77it/s]RDKit ERROR: [22:47:19] UFFTYPER: Unrecognized charge state for atom: 7\n",
      " 28%|██▊       | 456/1614 [00:40<01:45, 11.02it/s]RDKit ERROR: [22:47:33] UFFTYPER: Unrecognized charge state for atom: 15\n",
      " 31%|███       | 499/1614 [00:45<02:38,  7.04it/s]"
     ]
    },
    {
     "name": "stdout",
     "output_type": "stream",
     "text": [
      "bad\n"
     ]
    },
    {
     "name": "stderr",
     "output_type": "stream",
     "text": [
      " 51%|█████     | 819/1614 [01:17<07:51,  1.69it/s]"
     ]
    },
    {
     "name": "stdout",
     "output_type": "stream",
     "text": [
      "bad\n"
     ]
    },
    {
     "name": "stderr",
     "output_type": "stream",
     "text": [
      " 52%|█████▏    | 840/1614 [01:19<01:33,  8.30it/s]RDKit ERROR: [22:48:12] UFFTYPER: Unrecognized charge state for atom: 8\n",
      " 62%|██████▏   | 1003/1614 [01:35<01:15,  8.08it/s]RDKit ERROR: [22:48:28] UFFTYPER: Unrecognized charge state for atom: 6\n",
      " 66%|██████▌   | 1068/1614 [01:59<16:20,  1.80s/it]"
     ]
    },
    {
     "name": "stdout",
     "output_type": "stream",
     "text": [
      "bad\n"
     ]
    },
    {
     "name": "stderr",
     "output_type": "stream",
     "text": [
      " 73%|███████▎  | 1182/1614 [02:07<00:29, 14.50it/s]RDKit ERROR: [22:49:01] UFFTYPER: Unrecognized charge state for atom: 15\n",
      " 74%|███████▍  | 1202/1614 [02:09<00:33, 12.24it/s]RDKit ERROR: [22:49:03] UFFTYPER: Unrecognized charge state for atom: 5\n",
      " 76%|███████▌  | 1228/1614 [02:11<00:32, 11.81it/s]RDKit ERROR: [22:49:05] UFFTYPER: Unrecognized charge state for atom: 12\n",
      " 76%|███████▋  | 1232/1614 [02:11<00:24, 15.32it/s]RDKit ERROR: [22:49:05] UFFTYPER: Unrecognized charge state for atom: 21\n",
      " 82%|████████▏ | 1320/1614 [02:25<00:27, 10.78it/s]"
     ]
    },
    {
     "name": "stdout",
     "output_type": "stream",
     "text": [
      "bad\n"
     ]
    },
    {
     "name": "stderr",
     "output_type": "stream",
     "text": [
      " 83%|████████▎ | 1346/1614 [02:41<04:48,  1.08s/it]"
     ]
    },
    {
     "name": "stdout",
     "output_type": "stream",
     "text": [
      "bad\n"
     ]
    },
    {
     "name": "stderr",
     "output_type": "stream",
     "text": [
      "RDKit ERROR: [22:49:35] UFFTYPER: Unrecognized charge state for atom: 3\n",
      " 87%|████████▋ | 1406/1614 [02:49<00:17, 11.57it/s]RDKit ERROR: [22:49:43] UFFTYPER: Unrecognized charge state for atom: 1\n",
      " 91%|█████████ | 1463/1614 [03:10<02:35,  1.03s/it]"
     ]
    },
    {
     "name": "stdout",
     "output_type": "stream",
     "text": [
      "bad\n"
     ]
    },
    {
     "name": "stderr",
     "output_type": "stream",
     "text": [
      " 99%|█████████▉| 1595/1614 [03:21<00:01, 18.04it/s]RDKit ERROR: [22:50:14] UFFTYPER: Unrecognized atom type: Zn1+2 (9)\n",
      "100%|██████████| 1614/1614 [03:23<00:00,  7.95it/s]\n"
     ]
    }
   ],
   "source": [
    "molecules = [Chem.AddHs(Chem.MolFromSmiles(smile)) for smile in tqdm(train_data['Smiles'])]\n",
    "for mol in tqdm(molecules):\n",
    "    AllChem.EmbedMolecule(mol)\n",
    "    try:\n",
    "        AllChem.MMFFOptimizeMolecule(mol, maxIters = 10000)\n",
    "    except:\n",
    "        print(\"bad\")\n",
    "train_data['molecules'] = molecules\n",
    "\n",
    "molecules = [Chem.AddHs(Chem.MolFromSmiles(smile)) for smile in tqdm(test_data['Smiles'])]\n",
    "for mol in tqdm(molecules):\n",
    "    AllChem.EmbedMolecule(mol)\n",
    "    try:\n",
    "        AllChem.MMFFOptimizeMolecule(mol, maxIters = 10000)\n",
    "    except:\n",
    "        print(\"bad\")\n",
    "test_data['molecules'] = molecules"
   ]
  },
  {
   "cell_type": "code",
   "execution_count": 4,
   "id": "175b0228",
   "metadata": {},
   "outputs": [
    {
     "data": {
      "text/plain": [
       "'for c in mol.GetConformers():\\n    print(c.GetPositions())'"
      ]
     },
     "execution_count": 4,
     "metadata": {},
     "output_type": "execute_result"
    }
   ],
   "source": [
    "'''for c in mol.GetConformers():\n",
    "    print(c.GetPositions())'''"
   ]
  },
  {
   "cell_type": "code",
   "execution_count": null,
   "id": "4a806653",
   "metadata": {},
   "outputs": [],
   "source": []
  },
  {
   "cell_type": "code",
   "execution_count": null,
   "id": "28211cc1",
   "metadata": {},
   "outputs": [],
   "source": []
  },
  {
   "cell_type": "code",
   "execution_count": null,
   "id": "ba45c186",
   "metadata": {},
   "outputs": [],
   "source": []
  },
  {
   "cell_type": "code",
   "execution_count": 5,
   "id": "d862ee51",
   "metadata": {},
   "outputs": [],
   "source": [
    "def get_single_raw_node_features(atom):\n",
    "    now = []\n",
    "    now.append(atom.GetAtomicNum())\n",
    "    now.append(atom.GetChiralTag())\n",
    "    now.append(atom.GetTotalDegree())\n",
    "    now.append(atom.GetFormalCharge())\n",
    "    now.append(atom.GetTotalNumHs())\n",
    "    now.append(atom.GetNumRadicalElectrons())\n",
    "    now.append(atom.GetHybridization())\n",
    "    now.append(atom.GetIsAromatic())\n",
    "    now.append(atom.IsInRing())\n",
    "    return now\n",
    "\n",
    "def get_raw_node_features(mol):\n",
    "    features = []\n",
    "    for atom in mol.GetAtoms():\n",
    "        features.append(get_single_raw_node_features(atom))\n",
    "    return features\n",
    "\n",
    "def get_single_raw_bond_features(bond):\n",
    "    now = []\n",
    "    now.append(str(bond.GetBondType()))\n",
    "    now.append(str(bond.GetStereo()))\n",
    "    now.append(bond.GetIsConjugated())\n",
    "    return now\n",
    "\n",
    "def get_raw_bond_features(mol):\n",
    "    features = []\n",
    "    for bond in mol.GetBonds():\n",
    "        features.append(get_single_raw_bond_features(bond))\n",
    "    return features"
   ]
  },
  {
   "cell_type": "code",
   "execution_count": 6,
   "id": "0fa97621",
   "metadata": {},
   "outputs": [],
   "source": [
    "class Encoder():\n",
    "    def __init__(self, features, print_unique = True):\n",
    "        reshaped = [[el] for el in features[0]]\n",
    "        for i in range(1, len(features)):\n",
    "            for j in range(len(reshaped)):\n",
    "                reshaped[j].append(features[i][j])\n",
    "        self.unique = [list(np.unique(values)) for values in reshaped]\n",
    "        if (print_unique):\n",
    "            for i in range(len(self.unique)):\n",
    "                print(i, self.unique[i])\n",
    "                \n",
    "                \n",
    "    def transform(self, features, show_progress = True):\n",
    "        result = []\n",
    "        for vector in tqdm(features, disable = not show_progress):\n",
    "            now = []\n",
    "            for i in range(len(vector)):\n",
    "                current = np.zeros(len(self.unique[i]))\n",
    "                current[self.unique[i].index(vector[i])] = 1.0\n",
    "                now.append(current)\n",
    "            now = np.concatenate(now, axis = 0)\n",
    "            result.append(now)\n",
    "        return np.array(result)"
   ]
  },
  {
   "cell_type": "code",
   "execution_count": 7,
   "id": "3f04e81b",
   "metadata": {},
   "outputs": [
    {
     "name": "stdout",
     "output_type": "stream",
     "text": [
      "0 ['AROMATIC', 'DOUBLE', 'SINGLE', 'TRIPLE']\n",
      "1 ['STEREOE', 'STEREONONE', 'STEREOZ']\n",
      "2 [False, True]\n"
     ]
    },
    {
     "name": "stderr",
     "output_type": "stream",
     "text": [
      "100%|██████████| 278110/278110 [00:01<00:00, 170429.19it/s]\n"
     ]
    },
    {
     "name": "stdout",
     "output_type": "stream",
     "text": [
      "(278110, 9)\n"
     ]
    }
   ],
   "source": [
    "train_raw_bond_features = []\n",
    "for mol in train_data['molecules']:\n",
    "    train_raw_bond_features = train_raw_bond_features + get_raw_bond_features(mol)\n",
    "\n",
    "bond_encoder = Encoder(train_raw_bond_features)\n",
    "\n",
    "train_bond_features = bond_encoder.transform(train_raw_bond_features)\n",
    "print(train_bond_features.shape)"
   ]
  },
  {
   "cell_type": "code",
   "execution_count": 8,
   "id": "97db0a8f",
   "metadata": {},
   "outputs": [
    {
     "name": "stdout",
     "output_type": "stream",
     "text": [
      "0 [1, 3, 5, 6, 7, 8, 9, 11, 12, 13, 14, 15, 16, 17, 19, 20, 30, 33, 34, 35, 38, 47, 53]\n",
      "1 [0, 1, 2]\n",
      "2 [0, 1, 2, 3, 4, 6]\n",
      "3 [-1, 0, 1, 2, 3]\n",
      "4 [0]\n",
      "5 [0, 1]\n",
      "6 [0, 1, 2, 3, 4, 5, 6]\n",
      "7 [False, True]\n",
      "8 [False, True]\n"
     ]
    },
    {
     "name": "stderr",
     "output_type": "stream",
     "text": [
      "100%|██████████| 267726/267726 [00:03<00:00, 68563.86it/s]\n"
     ]
    },
    {
     "name": "stdout",
     "output_type": "stream",
     "text": [
      "(267726, 51)\n"
     ]
    }
   ],
   "source": [
    "train_raw_node_features = []\n",
    "for mol in train_data['molecules']:\n",
    "    train_raw_node_features = train_raw_node_features + get_raw_node_features(mol)\n",
    "    \n",
    "node_encoder = Encoder(train_raw_node_features)\n",
    "\n",
    "train_node_features = node_encoder.transform(train_raw_node_features)\n",
    "print(train_node_features.shape)\n",
    "\n",
    "\n"
   ]
  },
  {
   "cell_type": "code",
   "execution_count": 9,
   "id": "381e2c44",
   "metadata": {},
   "outputs": [],
   "source": [
    "def mol_2_pytorch_geometric(mol, node_encoder, bond_encoder):\n",
    "   \n",
    "    #node_features = node_encoder.transform(get_raw_node_features(mol), show_progress = False)\n",
    "    node_features = []\n",
    "    for feature in get_raw_node_features(mol):\n",
    "        node_features.append(node_encoder.unique[0].index(feature[0]))\n",
    "    node_features = torch.LongTensor(node_features)\n",
    "    ''' atomic_features = []\n",
    "    for feature in get_raw_node_features(mol):\n",
    "        #print(feature[0])\n",
    "        atomic_features.append(dict_atom_features[feature[0]])\n",
    "    \n",
    "    node_features = np.concatenate([node_features, np.array(atomic_features)], axis = 1)'''\n",
    "    \n",
    "    conformers = list(mol.GetConformers())\n",
    "    if len(conformers) > 1:\n",
    "        raise ValueError(\"bad\")\n",
    "    if len(conformers) == 0:\n",
    "        return Data(x = node_features, empty = True)\n",
    "    positions = torch.FloatTensor(np.array(conformers[0].GetPositions()))\n",
    "    \n",
    "    edge_indices, edge_attrs = [], []\n",
    "    \n",
    "    num_bond_features = None\n",
    "    for bond in mol.GetBonds():\n",
    "        i = bond.GetBeginAtomIdx()\n",
    "        j = bond.GetEndAtomIdx()\n",
    "\n",
    "        bond_features = bond_encoder.transform([get_single_raw_bond_features(bond)], show_progress = False)\n",
    "        num_bond_features = len(bond_features[0])\n",
    "        #print(\"bond features: \", bond_features[0].shape)\n",
    "        edge_indices += [[i, j], [j, i]]\n",
    "        edge_attrs += [bond_features[0], bond_features[0]]\n",
    "    \n",
    "    if len(edge_attrs) > 0:\n",
    "        \n",
    "   \n",
    "        edge_index = torch.tensor(edge_indices)\n",
    "        edge_index = edge_index.t().to(torch.long).view(2, -1)\n",
    "        edge_attrs = torch.tensor(edge_attrs, dtype=torch.long).view(-1, num_bond_features)\n",
    "        ''' print(edge_attrs.shape)\n",
    "        print(edge_index.shape)\n",
    "        print(node_features.shape)\n",
    "        print(edge_index)'''\n",
    "        # Sort indices.\n",
    "  \n",
    "        perm = (edge_index[0] * node_features.shape[0] + edge_index[1]).argsort()\n",
    "        #print(\"perm: \", perm.shape)\n",
    "        #print(edge_index[0] * node_features.shape[0] + edge_index[1])\n",
    "        edge_index, edge_attrs = edge_index[:, perm], edge_attrs[perm]\n",
    "        data = Data(x=node_features, edge_index=edge_index, edge_attr=edge_attrs, pos = positions, empty = False)\n",
    "    else:\n",
    "        data = Data(x = node_features, pos = positions, empty = True)\n",
    "    #print(edge_index.shape)\n",
    "    #print(edge_attrs.shape)\n",
    "    \n",
    "    return data"
   ]
  },
  {
   "cell_type": "code",
   "execution_count": 10,
   "id": "059eb81f",
   "metadata": {},
   "outputs": [],
   "source": [
    "first = mol_2_pytorch_geometric(train_data['molecules'][0], node_encoder, bond_encoder)"
   ]
  },
  {
   "cell_type": "code",
   "execution_count": 11,
   "id": "afdb499b",
   "metadata": {},
   "outputs": [
    {
     "name": "stdout",
     "output_type": "stream",
     "text": [
      "torch.Size([28])\n",
      "<class 'torch.Tensor'>\n"
     ]
    }
   ],
   "source": [
    "print(first.x.shape)\n",
    "print(type(first.x))"
   ]
  },
  {
   "cell_type": "code",
   "execution_count": 12,
   "id": "b82959a2",
   "metadata": {},
   "outputs": [
    {
     "name": "stdout",
     "output_type": "stream",
     "text": [
      "torch.Size([28, 3])\n",
      "<class 'torch.Tensor'>\n"
     ]
    }
   ],
   "source": [
    "print(first.pos.shape)\n",
    "print(type(first.pos))"
   ]
  },
  {
   "cell_type": "code",
   "execution_count": 13,
   "id": "07626f27",
   "metadata": {},
   "outputs": [
    {
     "name": "stdout",
     "output_type": "stream",
     "text": [
      "[1, 3, 5, 6, 7, 8, 9, 11, 12, 13, 14, 15, 16, 17, 19, 20, 30, 33, 34, 35, 38, 47, 53]\n"
     ]
    }
   ],
   "source": [
    "print(node_encoder.unique[0])"
   ]
  },
  {
   "cell_type": "code",
   "execution_count": null,
   "id": "1cc076e3",
   "metadata": {},
   "outputs": [],
   "source": []
  },
  {
   "cell_type": "code",
   "execution_count": 14,
   "id": "e849b73e",
   "metadata": {},
   "outputs": [
    {
     "name": "stderr",
     "output_type": "stream",
     "text": [
      "100%|██████████| 5557/5557 [00:14<00:00, 395.17it/s]\n",
      "100%|██████████| 1614/1614 [00:04<00:00, 389.69it/s]\n"
     ]
    }
   ],
   "source": [
    "train_data['graphs'] = [mol_2_pytorch_geometric(molecule, node_encoder, bond_encoder) \n",
    "                        for molecule in tqdm(train_data['molecules'])]\n",
    "\n",
    "test_data['graphs'] = [mol_2_pytorch_geometric(molecule, node_encoder, bond_encoder)\n",
    "                       for molecule in tqdm(test_data['molecules'])]"
   ]
  },
  {
   "cell_type": "code",
   "execution_count": 15,
   "id": "936fb391",
   "metadata": {},
   "outputs": [
    {
     "name": "stdout",
     "output_type": "stream",
     "text": [
      "(206,)\n",
      "(5351,)\n"
     ]
    }
   ],
   "source": [
    "positive_indices = np.arange(len(train_data))[np.array(train_data['Active'])]\n",
    "negative_indices = np.arange(len(train_data))[np.array(train_data['Active']) == False]\n",
    "\n",
    "np.random.seed(0)\n",
    "np.random.shuffle(positive_indices)\n",
    "np.random.shuffle(negative_indices)\n",
    "print(positive_indices.shape)\n",
    "print(negative_indices.shape)"
   ]
  },
  {
   "cell_type": "code",
   "execution_count": null,
   "id": "5bff01d1",
   "metadata": {},
   "outputs": [],
   "source": []
  },
  {
   "cell_type": "code",
   "execution_count": 16,
   "id": "b5c75ac8",
   "metadata": {},
   "outputs": [
    {
     "name": "stdout",
     "output_type": "stream",
     "text": [
      "135\n",
      "3531\n"
     ]
    }
   ],
   "source": [
    "TRAIN_PERCENTAGE = 0.66\n",
    "num_train_positive = int(positive_indices.shape[0] * TRAIN_PERCENTAGE)\n",
    "print(num_train_positive)\n",
    "train_positive = positive_indices[:num_train_positive]\n",
    "train_positive = np.repeat(train_positive, 25)\n",
    "val_positive = positive_indices[num_train_positive:]\n",
    "\n",
    "num_train_negative = int(negative_indices.shape[0] * TRAIN_PERCENTAGE)\n",
    "print(num_train_negative)\n",
    "train_negative = negative_indices[:num_train_negative]\n",
    "val_negative = negative_indices[num_train_negative:]"
   ]
  },
  {
   "cell_type": "code",
   "execution_count": 17,
   "id": "92a2f28a",
   "metadata": {},
   "outputs": [],
   "source": [
    "train_indices = np.concatenate([train_positive, train_negative], axis = 0)\n",
    "val_indices = np.concatenate([val_positive, val_negative], axis = 0)\n"
   ]
  },
  {
   "cell_type": "code",
   "execution_count": 18,
   "id": "aba70c09",
   "metadata": {},
   "outputs": [
    {
     "name": "stdout",
     "output_type": "stream",
     "text": [
      "6906\n",
      "1891\n",
      "6869\n",
      "1879\n"
     ]
    }
   ],
   "source": [
    "print(len(train_indices))\n",
    "print(len(val_indices))\n",
    "\n",
    "train_indices = [index for index in train_indices if not train_data['graphs'][index].empty]\n",
    "val_indices =  [index for index in val_indices if not train_data['graphs'][index].empty]\n",
    "\n",
    "print(len(train_indices))\n",
    "print(len(val_indices))"
   ]
  },
  {
   "cell_type": "code",
   "execution_count": 19,
   "id": "4fd5166b",
   "metadata": {},
   "outputs": [],
   "source": [
    "def get_min_max_distances(pos):\n",
    "    def get_distance(first, second):\n",
    "        delta = first - second\n",
    "        #print(delta)\n",
    "        return np.sqrt(np.sum(delta * delta))\n",
    "    max_distance = -1\n",
    "    min_distance = 100000\n",
    "    for i in range(len(pos)):\n",
    "        for j in range(i + 1, len(pos)):\n",
    "            distance = get_distance(pos[i], pos[j])\n",
    "            if distance > max_distance:\n",
    "                max_distance = distance\n",
    "            if distance < min_distance:\n",
    "                min_distance = distance\n",
    "    return min_distance, max_distance"
   ]
  },
  {
   "cell_type": "code",
   "execution_count": 20,
   "id": "61de7384",
   "metadata": {},
   "outputs": [
    {
     "name": "stdout",
     "output_type": "stream",
     "text": [
      "[ True  True  True ... False False False]\n",
      "6711\n",
      "1848\n"
     ]
    }
   ],
   "source": [
    "val_graphs = [train_data['graphs'].to_list()[index] for index in val_indices if train_data['graphs'] is not None]\n",
    "val_labels = train_data['Active'].to_numpy()[val_indices]\n",
    "\n",
    "train_graphs = [train_data['graphs'].to_list()[index] for index in train_indices if train_data['graphs'] is not None]\n",
    "train_labels = train_data['Active'].to_numpy()[train_indices]\n",
    "\n",
    "print(train_labels)\n",
    "for i in range(len(train_graphs)):\n",
    "    train_graphs[i].y = int(train_labels[i])\n",
    "for i in range(len(val_graphs)):\n",
    "    val_graphs[i].y = int(val_labels[i])\n",
    "\n",
    "    \n",
    "train_graphs = [graph for graph in train_graphs if not graph.empty]\n",
    "val_graphs = [graph for graph in val_graphs if not graph.empty]\n",
    "\n",
    "\n",
    "train_graphs = [graph for graph in train_graphs if get_min_max_distances(graph.pos.data.cpu().numpy())[0] > 0.1]\n",
    "val_graphs = [graph for graph in val_graphs if get_min_max_distances(graph.pos.data.cpu().numpy())[0] > 0.1]\n",
    "\n",
    "print(len(train_graphs))\n",
    "print(len(val_graphs))"
   ]
  },
  {
   "cell_type": "code",
   "execution_count": null,
   "id": "a328fbf4",
   "metadata": {},
   "outputs": [],
   "source": []
  },
  {
   "cell_type": "code",
   "execution_count": 21,
   "id": "358154dd",
   "metadata": {},
   "outputs": [
    {
     "data": {
      "text/plain": [
       "'total_min_d = 10000\\nfor graph in tqdm(train_graphs):\\n    if min_d < 0.1:\\n        \\n    if min_d < total_min_d:\\n        total_min_d = min_d\\nprint(total_min_d)'"
      ]
     },
     "execution_count": 21,
     "metadata": {},
     "output_type": "execute_result"
    }
   ],
   "source": [
    "'''total_min_d = 10000\n",
    "for graph in tqdm(train_graphs):\n",
    "    if min_d < 0.1:\n",
    "        \n",
    "    if min_d < total_min_d:\n",
    "        total_min_d = min_d\n",
    "print(total_min_d)'''"
   ]
  },
  {
   "cell_type": "code",
   "execution_count": 22,
   "id": "280a5a34",
   "metadata": {},
   "outputs": [],
   "source": [
    "BATCH_SIZE = 128\n",
    "train_loader = DataLoader(train_graphs, batch_size=BATCH_SIZE, shuffle=True)\n",
    "val_loader = DataLoader(val_graphs, batch_size = BATCH_SIZE, shuffle = False)"
   ]
  },
  {
   "cell_type": "code",
   "execution_count": 23,
   "id": "77e7cdc3",
   "metadata": {},
   "outputs": [],
   "source": [
    "from mxmnet.layers import Global_MP, Local_MP\n",
    "from mxmnet.utils import BesselBasisLayer, SphericalBasisLayer, MLP\n",
    "import torch.nn as nn\n",
    "from torch_geometric.utils import remove_self_loops\n",
    "from torch_geometric.nn import global_add_pool, radius\n",
    "import math\n",
    "from torch_sparse import SparseTensor\n",
    "\n",
    "class Config(object):\n",
    "    def __init__(self, dim, n_layer, cutoff):\n",
    "        self.dim = dim\n",
    "        self.n_layer = n_layer\n",
    "        self.cutoff = cutoff\n",
    "        \n",
    "class MXMNet(nn.Module):\n",
    "    def __init__(self, num_species, config: Config, num_spherical=7, num_radial=6, envelope_exponent=5):\n",
    "        super(MXMNet, self).__init__()\n",
    "\n",
    "        self.dim = config.dim\n",
    "        self.n_layer = config.n_layer\n",
    "        self.cutoff = config.cutoff\n",
    "\n",
    "        self.embeddings = nn.Parameter(torch.ones((num_species, self.dim)))\n",
    "\n",
    "        self.rbf_l = BesselBasisLayer(16, 5, envelope_exponent)\n",
    "        self.rbf_g = BesselBasisLayer(16, self.cutoff, envelope_exponent)\n",
    "        self.sbf = SphericalBasisLayer(num_spherical, num_radial, 5, envelope_exponent)\n",
    "\n",
    "        self.rbf_g_mlp = MLP([16, self.dim])\n",
    "        self.rbf_l_mlp = MLP([16, self.dim])\n",
    "\n",
    "        self.sbf_1_mlp = MLP([num_spherical * num_radial, self.dim])\n",
    "        self.sbf_2_mlp = MLP([num_spherical * num_radial, self.dim])\n",
    "\n",
    "        self.global_layers = torch.nn.ModuleList()\n",
    "        for layer in range(config.n_layer):\n",
    "            self.global_layers.append(Global_MP(config))\n",
    "\n",
    "        self.local_layers = torch.nn.ModuleList()\n",
    "        for layer in range(config.n_layer):\n",
    "            self.local_layers.append(Local_MP(config))\n",
    "        \n",
    "        self.init()\n",
    "\n",
    "    def init(self):\n",
    "        stdv = math.sqrt(3)\n",
    "        self.embeddings.data.uniform_(-stdv, stdv)\n",
    "\n",
    "    def indices(self, edge_index, num_nodes):\n",
    "        row, col = edge_index\n",
    "\n",
    "        value = torch.arange(row.size(0), device=row.device)\n",
    "        adj_t = SparseTensor(row=col, col=row, value=value,\n",
    "                             sparse_sizes=(num_nodes, num_nodes))\n",
    "        \n",
    "        #Compute the node indices for two-hop angles\n",
    "        adj_t_row = adj_t[row]\n",
    "        num_triplets = adj_t_row.set_value(None).sum(dim=1).to(torch.long)\n",
    "\n",
    "        idx_i = col.repeat_interleave(num_triplets)\n",
    "        idx_j = row.repeat_interleave(num_triplets)\n",
    "        idx_k = adj_t_row.storage.col()\n",
    "        mask = idx_i != idx_k\n",
    "        idx_i_1, idx_j, idx_k = idx_i[mask], idx_j[mask], idx_k[mask]\n",
    "\n",
    "        idx_kj = adj_t_row.storage.value()[mask]\n",
    "        idx_ji_1 = adj_t_row.storage.row()[mask]\n",
    "\n",
    "        #Compute the node indices for one-hop angles\n",
    "        adj_t_col = adj_t[col]\n",
    "\n",
    "        num_pairs = adj_t_col.set_value(None).sum(dim=1).to(torch.long)\n",
    "        idx_i_2 = row.repeat_interleave(num_pairs)\n",
    "        idx_j1 = col.repeat_interleave(num_pairs)\n",
    "        idx_j2 = adj_t_col.storage.col()\n",
    "\n",
    "        idx_ji_2 = adj_t_col.storage.row()\n",
    "        idx_jj = adj_t_col.storage.value()\n",
    "\n",
    "        return idx_i_1, idx_j, idx_k, idx_kj, idx_ji_1, idx_i_2, idx_j1, idx_j2, idx_jj, idx_ji_2\n",
    "\n",
    "\n",
    "    def forward(self, data):\n",
    "        x = data.x\n",
    "        edge_index = data.edge_index\n",
    "        pos = data.pos\n",
    "        batch = data.batch\n",
    "        # Initialize node embeddings\n",
    "        h = torch.index_select(self.embeddings, 0, x.long())\n",
    "\n",
    "        # Get the edges and pairwise distances in the local layer\n",
    "        edge_index_l, _ = remove_self_loops(edge_index)\n",
    "        j_l, i_l = edge_index_l\n",
    "        dist_l = (pos[i_l] - pos[j_l]).pow(2).sum(dim=-1).sqrt()\n",
    "        \n",
    "        # Get the edges pairwise distances in the global layer\n",
    "        row, col = radius(pos, pos, self.cutoff, batch, batch, max_num_neighbors=500)\n",
    "        edge_index_g = torch.stack([row, col], dim=0)\n",
    "        edge_index_g, _ = remove_self_loops(edge_index_g)\n",
    "        j_g, i_g = edge_index_g\n",
    "        dist_g = (pos[i_g] - pos[j_g]).pow(2).sum(dim=-1).sqrt()\n",
    "        \n",
    "        # Compute the node indices for defining the angles\n",
    "        idx_i_1, idx_j, idx_k, idx_kj, idx_ji, idx_i_2, idx_j1, idx_j2, idx_jj, idx_ji_2 = self.indices(edge_index_l, num_nodes=h.size(0))\n",
    "\n",
    "        # Compute the two-hop angles\n",
    "        pos_ji_1, pos_kj = pos[idx_j] - pos[idx_i_1], pos[idx_k] - pos[idx_j]\n",
    "        a = (pos_ji_1 * pos_kj).sum(dim=-1)\n",
    "        b = torch.cross(pos_ji_1, pos_kj).norm(dim=-1)\n",
    "        angle_1 = torch.atan2(b, a)\n",
    "\n",
    "        # Compute the one-hop angles\n",
    "        pos_ji_2, pos_jj = pos[idx_j1] - pos[idx_i_2], pos[idx_j2] - pos[idx_j1]\n",
    "        a = (pos_ji_2 * pos_jj).sum(dim=-1)\n",
    "        b = torch.cross(pos_ji_2, pos_jj).norm(dim=-1)\n",
    "        angle_2 = torch.atan2(b, a)\n",
    "\n",
    "        # Get the RBF and SBF embeddings\n",
    "        rbf_g = self.rbf_g(dist_g)\n",
    "        rbf_l = self.rbf_l(dist_l)\n",
    "        sbf_1 = self.sbf(dist_l, angle_1, idx_kj)\n",
    "        sbf_2 = self.sbf(dist_l, angle_2, idx_jj)\n",
    "        \n",
    "        rbf_g = self.rbf_g_mlp(rbf_g)\n",
    "        rbf_l = self.rbf_l_mlp(rbf_l)\n",
    "        sbf_1 = self.sbf_1_mlp(sbf_1)\n",
    "        sbf_2 = self.sbf_2_mlp(sbf_2)\n",
    "        \n",
    "        # Perform the message passing schemes\n",
    "        node_sum = 0\n",
    "\n",
    "        for layer in range(self.n_layer):\n",
    "            h = self.global_layers[layer](h, rbf_g, edge_index_g)\n",
    "            h, t = self.local_layers[layer](h, rbf_l, sbf_1, sbf_2, idx_kj, idx_ji, idx_jj, idx_ji_2, edge_index_l)\n",
    "            node_sum += t\n",
    "        \n",
    "        # Readout\n",
    "        output = global_add_pool(node_sum, batch)\n",
    "        return output\n"
   ]
  },
  {
   "cell_type": "code",
   "execution_count": 28,
   "id": "1be9b644",
   "metadata": {},
   "outputs": [
    {
     "name": "stdout",
     "output_type": "stream",
     "text": [
      "Loaded the MXMNet.\n"
     ]
    }
   ],
   "source": [
    "from mxmnet.model import Config\n",
    "config = Config(dim=128, n_layer=3, cutoff=2.5)\n",
    "device = 'cuda'\n",
    "model = MXMNet(num_species = len(node_encoder.unique[0]), config = config).to(device)\n",
    "print('Loaded the MXMNet.')\n"
   ]
  },
  {
   "cell_type": "code",
   "execution_count": 29,
   "id": "07ac7b03",
   "metadata": {},
   "outputs": [
    {
     "ename": "RuntimeError",
     "evalue": "The following operation failed in the TorchScript interpreter.\nTraceback of TorchScript (most recent call last):\n  File \"/home/sergey/miniconda3/lib/python3.9/site-packages/torch_cluster/radius.py\", line 75, in radius\n        torch.cumsum(deg, 0, out=ptr_y[1:])\n\n    return torch.ops.torch_cluster.radius(x, y, ptr_x, ptr_y, r,\n           ~~~~~~~~~~~~~~~~~~~~~~~~~~~~~~ <--- HERE\n                                          max_num_neighbors, num_workers)\nRuntimeError: CUDA out of memory. Tried to allocate 22.00 MiB (GPU 0; 9.78 GiB total capacity; 5.32 GiB already allocated; 18.31 MiB free; 5.62 GiB reserved in total by PyTorch) If reserved memory is >> allocated memory try setting max_split_size_mb to avoid fragmentation.  See documentation for Memory Management and PYTORCH_CUDA_ALLOC_CONF\n",
     "output_type": "error",
     "traceback": [
      "\u001b[0;31m---------------------------------------------------------------------------\u001b[0m",
      "\u001b[0;31mRuntimeError\u001b[0m                              Traceback (most recent call last)",
      "\u001b[0;32m<ipython-input-29-c6b89bc8d1c6>\u001b[0m in \u001b[0;36m<module>\u001b[0;34m\u001b[0m\n\u001b[1;32m     13\u001b[0m     \u001b[0;32mfor\u001b[0m \u001b[0mdata\u001b[0m \u001b[0;32min\u001b[0m \u001b[0mval_loader\u001b[0m\u001b[0;34m:\u001b[0m\u001b[0;34m\u001b[0m\u001b[0;34m\u001b[0m\u001b[0m\n\u001b[1;32m     14\u001b[0m         \u001b[0mdata\u001b[0m\u001b[0;34m.\u001b[0m\u001b[0mto\u001b[0m\u001b[0;34m(\u001b[0m\u001b[0mdevice\u001b[0m\u001b[0;34m)\u001b[0m\u001b[0;34m\u001b[0m\u001b[0;34m\u001b[0m\u001b[0m\n\u001b[0;32m---> 15\u001b[0;31m         \u001b[0moutputs\u001b[0m \u001b[0;34m=\u001b[0m \u001b[0mmodel\u001b[0m\u001b[0;34m(\u001b[0m\u001b[0mdata\u001b[0m\u001b[0;34m)\u001b[0m\u001b[0;34m\u001b[0m\u001b[0;34m\u001b[0m\u001b[0m\n\u001b[0m\u001b[1;32m     16\u001b[0m         \u001b[0;31m#mask = torch.logical_not(torch.isnan(outputs[:, 1])).data.cpu().numpy()\u001b[0m\u001b[0;34m\u001b[0m\u001b[0;34m\u001b[0m\u001b[0;34m\u001b[0m\u001b[0m\n\u001b[1;32m     17\u001b[0m \u001b[0;34m\u001b[0m\u001b[0m\n",
      "\u001b[0;32m~/miniconda3/lib/python3.9/site-packages/torch/nn/modules/module.py\u001b[0m in \u001b[0;36m_call_impl\u001b[0;34m(self, *input, **kwargs)\u001b[0m\n\u001b[1;32m   1100\u001b[0m         if not (self._backward_hooks or self._forward_hooks or self._forward_pre_hooks or _global_backward_hooks\n\u001b[1;32m   1101\u001b[0m                 or _global_forward_hooks or _global_forward_pre_hooks):\n\u001b[0;32m-> 1102\u001b[0;31m             \u001b[0;32mreturn\u001b[0m \u001b[0mforward_call\u001b[0m\u001b[0;34m(\u001b[0m\u001b[0;34m*\u001b[0m\u001b[0minput\u001b[0m\u001b[0;34m,\u001b[0m \u001b[0;34m**\u001b[0m\u001b[0mkwargs\u001b[0m\u001b[0;34m)\u001b[0m\u001b[0;34m\u001b[0m\u001b[0;34m\u001b[0m\u001b[0m\n\u001b[0m\u001b[1;32m   1103\u001b[0m         \u001b[0;31m# Do not call functions when jit is used\u001b[0m\u001b[0;34m\u001b[0m\u001b[0;34m\u001b[0m\u001b[0;34m\u001b[0m\u001b[0m\n\u001b[1;32m   1104\u001b[0m         \u001b[0mfull_backward_hooks\u001b[0m\u001b[0;34m,\u001b[0m \u001b[0mnon_full_backward_hooks\u001b[0m \u001b[0;34m=\u001b[0m \u001b[0;34m[\u001b[0m\u001b[0;34m]\u001b[0m\u001b[0;34m,\u001b[0m \u001b[0;34m[\u001b[0m\u001b[0;34m]\u001b[0m\u001b[0;34m\u001b[0m\u001b[0;34m\u001b[0m\u001b[0m\n",
      "\u001b[0;32m<ipython-input-23-d6b62b60fbf6>\u001b[0m in \u001b[0;36mforward\u001b[0;34m(self, data)\u001b[0m\n\u001b[1;32m     95\u001b[0m \u001b[0;34m\u001b[0m\u001b[0m\n\u001b[1;32m     96\u001b[0m         \u001b[0;31m# Get the edges pairwise distances in the global layer\u001b[0m\u001b[0;34m\u001b[0m\u001b[0;34m\u001b[0m\u001b[0;34m\u001b[0m\u001b[0m\n\u001b[0;32m---> 97\u001b[0;31m         \u001b[0mrow\u001b[0m\u001b[0;34m,\u001b[0m \u001b[0mcol\u001b[0m \u001b[0;34m=\u001b[0m \u001b[0mradius\u001b[0m\u001b[0;34m(\u001b[0m\u001b[0mpos\u001b[0m\u001b[0;34m,\u001b[0m \u001b[0mpos\u001b[0m\u001b[0;34m,\u001b[0m \u001b[0mself\u001b[0m\u001b[0;34m.\u001b[0m\u001b[0mcutoff\u001b[0m\u001b[0;34m,\u001b[0m \u001b[0mbatch\u001b[0m\u001b[0;34m,\u001b[0m \u001b[0mbatch\u001b[0m\u001b[0;34m,\u001b[0m \u001b[0mmax_num_neighbors\u001b[0m\u001b[0;34m=\u001b[0m\u001b[0;36m500\u001b[0m\u001b[0;34m)\u001b[0m\u001b[0;34m\u001b[0m\u001b[0;34m\u001b[0m\u001b[0m\n\u001b[0m\u001b[1;32m     98\u001b[0m         \u001b[0medge_index_g\u001b[0m \u001b[0;34m=\u001b[0m \u001b[0mtorch\u001b[0m\u001b[0;34m.\u001b[0m\u001b[0mstack\u001b[0m\u001b[0;34m(\u001b[0m\u001b[0;34m[\u001b[0m\u001b[0mrow\u001b[0m\u001b[0;34m,\u001b[0m \u001b[0mcol\u001b[0m\u001b[0;34m]\u001b[0m\u001b[0;34m,\u001b[0m \u001b[0mdim\u001b[0m\u001b[0;34m=\u001b[0m\u001b[0;36m0\u001b[0m\u001b[0;34m)\u001b[0m\u001b[0;34m\u001b[0m\u001b[0;34m\u001b[0m\u001b[0m\n\u001b[1;32m     99\u001b[0m         \u001b[0medge_index_g\u001b[0m\u001b[0;34m,\u001b[0m \u001b[0m_\u001b[0m \u001b[0;34m=\u001b[0m \u001b[0mremove_self_loops\u001b[0m\u001b[0;34m(\u001b[0m\u001b[0medge_index_g\u001b[0m\u001b[0;34m)\u001b[0m\u001b[0;34m\u001b[0m\u001b[0;34m\u001b[0m\u001b[0m\n",
      "\u001b[0;32m~/miniconda3/lib/python3.9/site-packages/torch_geometric/nn/pool/__init__.py\u001b[0m in \u001b[0;36mradius\u001b[0;34m(x, y, r, batch_x, batch_y, max_num_neighbors, num_workers)\u001b[0m\n\u001b[1;32m    171\u001b[0m         \u001b[0;32mraise\u001b[0m \u001b[0mImportError\u001b[0m\u001b[0;34m(\u001b[0m\u001b[0;34m'`radius` requires `torch-cluster`.'\u001b[0m\u001b[0;34m)\u001b[0m\u001b[0;34m\u001b[0m\u001b[0;34m\u001b[0m\u001b[0m\n\u001b[1;32m    172\u001b[0m \u001b[0;34m\u001b[0m\u001b[0m\n\u001b[0;32m--> 173\u001b[0;31m     return torch_cluster.radius(x, y, r, batch_x, batch_y, max_num_neighbors,\n\u001b[0m\u001b[1;32m    174\u001b[0m                                 num_workers)\n\u001b[1;32m    175\u001b[0m \u001b[0;34m\u001b[0m\u001b[0m\n",
      "\u001b[0;31mRuntimeError\u001b[0m: The following operation failed in the TorchScript interpreter.\nTraceback of TorchScript (most recent call last):\n  File \"/home/sergey/miniconda3/lib/python3.9/site-packages/torch_cluster/radius.py\", line 75, in radius\n        torch.cumsum(deg, 0, out=ptr_y[1:])\n\n    return torch.ops.torch_cluster.radius(x, y, ptr_x, ptr_y, r,\n           ~~~~~~~~~~~~~~~~~~~~~~~~~~~~~~ <--- HERE\n                                          max_num_neighbors, num_workers)\nRuntimeError: CUDA out of memory. Tried to allocate 22.00 MiB (GPU 0; 9.78 GiB total capacity; 5.32 GiB already allocated; 18.31 MiB free; 5.62 GiB reserved in total by PyTorch) If reserved memory is >> allocated memory try setting max_split_size_mb to avoid fragmentation.  See documentation for Memory Management and PYTORCH_CUDA_ALLOC_CONF\n"
     ]
    }
   ],
   "source": [
    "optimizer = torch.optim.Adam(model.parameters(), lr = 3e-4)\n",
    "lr_scheduler = torch.optim.lr_scheduler.ReduceLROnPlateau(optimizer, factor = 0.5, patience = 20)\n",
    "\n",
    "NUM_EPOCHS = 100000\n",
    "from sklearn.metrics import f1_score\n",
    "for epoch in range(NUM_EPOCHS):\n",
    "    \n",
    "    model.train(False)\n",
    "\n",
    "    all_outputs = []\n",
    "    all_targets = []\n",
    "\n",
    "    for data in val_loader:\n",
    "        data.to(device)\n",
    "        outputs = model(data)\n",
    "        #mask = torch.logical_not(torch.isnan(outputs[:, 1])).data.cpu().numpy()\n",
    "        \n",
    "        #print(torch.isnan(outputs))\n",
    "        #print(torch.max(outputs))\n",
    "        #print(np.max(outputs.data.cpu().numpy()))\n",
    "        outputs = F.log_softmax(outputs)\n",
    "        \n",
    "        #print(outputs)\n",
    "        all_outputs.append(outputs.data.cpu().numpy())\n",
    "        all_targets.append(data.y.cpu().numpy())\n",
    "    all_outputs = np.concatenate(all_outputs, axis = 0)\n",
    "    all_targets = np.concatenate(all_targets, axis = 0)\n",
    "    #print(all_outputs[:, 1])\n",
    "    backup = np.array(all_outputs[:, 1])\n",
    "    values = []\n",
    "    for threshold in np.linspace(np.min(all_outputs[:, 1]), np.max(all_outputs[:, 1]), 1000):\n",
    "        predictions = all_outputs[:, 1] > threshold\n",
    "        #print(np.sum(predictions))\n",
    "        now = f1_score(all_targets, predictions)\n",
    "        values.append(now)\n",
    "    if epoch % 1 == 0:\n",
    "        print(epoch, np.max(values), optimizer.param_groups[0]['lr'])\n",
    "    #break   \n",
    "    model.train(True)\n",
    "    for data in train_loader:\n",
    "        data.to(device)\n",
    "        optimizer.zero_grad()\n",
    "        outputs = model(data)\n",
    "        ''' mask_first = torch.logical_not(torch.isnan(outputs[:, 1]))\n",
    "        mask_second = torch.logical_not(torch.isnan(outputs[:, 0]))\n",
    "        mask = torch.logical_and(mask_first, mask_second)'''\n",
    "        #print(mask.shape[0] - torch.sum(mask))\n",
    "        #print(np.max(outputs.data.cpu().numpy()))\n",
    "        outputs = F.log_softmax(outputs)\n",
    "        #print(\"outputs: \", outputs.shape)\n",
    "        #print(outputs)\n",
    "        #print(data.y)\n",
    "        \n",
    "        loss = F.nll_loss(outputs, data.y)\n",
    "        #print(\"loss: \", loss)\n",
    "        #loss = torch.sum(outputs[:, 0])\n",
    "        loss.backward()\n",
    "        optimizer.step()\n",
    "\n",
    "\n",
    "   \n",
    "    \n",
    "    lr_scheduler.step(np.max(values))\n",
    "    \n",
    "    "
   ]
  },
  {
   "cell_type": "code",
   "execution_count": null,
   "id": "a81ae4d5",
   "metadata": {},
   "outputs": [],
   "source": []
  }
 ],
 "metadata": {
  "kernelspec": {
   "display_name": "Python 3",
   "language": "python",
   "name": "python3"
  },
  "language_info": {
   "codemirror_mode": {
    "name": "ipython",
    "version": 3
   },
   "file_extension": ".py",
   "mimetype": "text/x-python",
   "name": "python",
   "nbconvert_exporter": "python",
   "pygments_lexer": "ipython3",
   "version": "3.9.5"
  }
 },
 "nbformat": 4,
 "nbformat_minor": 5
}
