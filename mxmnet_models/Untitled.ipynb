{
 "cells": [
  {
   "cell_type": "code",
   "execution_count": 1,
   "id": "9606015d",
   "metadata": {},
   "outputs": [],
   "source": [
    "from mxmnet.model import MXMNet, Config"
   ]
  },
  {
   "cell_type": "code",
   "execution_count": null,
   "id": "b648c594",
   "metadata": {},
   "outputs": [],
   "source": []
  }
 ],
 "metadata": {
  "kernelspec": {
   "display_name": "Python 3",
   "language": "python",
   "name": "python3"
  },
  "language_info": {
   "codemirror_mode": {
    "name": "ipython",
    "version": 3
   },
   "file_extension": ".py",
   "mimetype": "text/x-python",
   "name": "python",
   "nbconvert_exporter": "python",
   "pygments_lexer": "ipython3",
   "version": "3.9.5"
  }
 },
 "nbformat": 4,
 "nbformat_minor": 5
}
